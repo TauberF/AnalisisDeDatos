{
 "cells": [
  {
   "cell_type": "markdown",
   "metadata": {},
   "source": [
    "## Práctico 5 - Aprendizaje automático"
   ]
  },
  {
   "cell_type": "markdown",
   "metadata": {},
   "source": [
    "### Parte 1: Aprendizaje supervisado. CSV: `Estrellas`"
   ]
  },
  {
   "cell_type": "markdown",
   "metadata": {},
   "source": [
    "#### Imports"
   ]
  },
  {
   "cell_type": "code",
   "execution_count": 87,
   "metadata": {},
   "outputs": [],
   "source": [
    "import pandas as pd\n",
    "import seaborn as sns\n",
    "import matplotlib.pyplot as plt\n",
    "\n",
    "from sklearn.model_selection import train_test_split\n",
    "from sklearn.preprocessing import StandardScaler, LabelEncoder\n",
    "from sklearn.tree import DecisionTreeClassifier\n",
    "from sklearn.ensemble import RandomForestClassifier\n",
    "from sklearn.neighbors import KNeighborsClassifier\n",
    "from sklearn.naive_bayes import GaussianNB\n",
    "from sklearn.svm import SVC\n",
    "from sklearn.linear_model import LogisticRegression\n",
    "\n",
    "from sklearn.metrics import accuracy_score, precision_score, recall_score, f1_score, confusion_matrix, classification_report\n",
    "\n",
    "# Para mostrar el arbol de decision\n",
    "from sklearn.tree import export_graphviz\n",
    "from six import StringIO\n",
    "from IPython.display import Image  \n",
    "from IPython.display import Image  \n",
    "import pydotplus"
   ]
  },
  {
   "cell_type": "markdown",
   "metadata": {},
   "source": [
    "1. Preprocesar preprocesar los datos, dividirlos en conjuntos de entrenamiento, validación y testeo y normalizar los mismos."
   ]
  },
  {
   "cell_type": "code",
   "execution_count": 88,
   "metadata": {},
   "outputs": [
    {
     "name": "stdout",
     "output_type": "stream",
     "text": [
      "   Temperature (K)  Luminosity (L/Lo)  Radius (R/Ro)  Absolute magnitude (Mv)  \\\n",
      "0             3068           0.002400         0.1700                    16.12   \n",
      "1             3042           0.000500         0.1542                    16.60   \n",
      "2             2600           0.000300         0.1020                    18.70   \n",
      "3             2800           0.000200         0.1600                    16.65   \n",
      "4             1939           0.000138         0.1030                    20.06   \n",
      "\n",
      "   Star type Star category Star color Spectral Class  \n",
      "0          0   Brown Dwarf        Red              M  \n",
      "1          0   Brown Dwarf        Red              M  \n",
      "2          0   Brown Dwarf        Red              M  \n",
      "3          0   Brown Dwarf        Red              M  \n",
      "4          0   Brown Dwarf        Red              M  \n",
      "\n",
      "Cantidad de datos faltantes:\n",
      "Temperature (K)            0\n",
      "Luminosity (L/Lo)          0\n",
      "Radius (R/Ro)              0\n",
      "Absolute magnitude (Mv)    0\n",
      "Star type                  0\n",
      "Star category              0\n",
      "Star color                 0\n",
      "Spectral Class             0\n",
      "dtype: int64\n",
      "n\\Cantidad de filas duplicadas:\n",
      "0\n"
     ]
    },
    {
     "name": "stderr",
     "output_type": "stream",
     "text": [
      "<>:11: SyntaxWarning: invalid escape sequence '\\C'\n",
      "<>:11: SyntaxWarning: invalid escape sequence '\\C'\n",
      "C:\\Users\\taube\\AppData\\Local\\Temp\\ipykernel_1376\\1723258513.py:11: SyntaxWarning: invalid escape sequence '\\C'\n",
      "  print(\"n\\Cantidad de filas duplicadas:\")\n"
     ]
    }
   ],
   "source": [
    "# Leer csv de Estrellas para mi parte 1\n",
    "estrellas = pd.read_csv('estrellas.csv')\n",
    "print(estrellas.head())\n",
    "\n",
    "#  Evaluar datos faltantes\n",
    "print(\"\\nCantidad de datos faltantes:\")\n",
    "print(estrellas.isnull().sum())\n",
    "\n",
    "\n",
    "#  Evaluar datos duplicados\n",
    "print(\"n\\Cantidad de filas duplicadas:\")\n",
    "print(estrellas.duplicated().sum())"
   ]
  },
  {
   "cell_type": "code",
   "execution_count": 89,
   "metadata": {},
   "outputs": [
    {
     "name": "stderr",
     "output_type": "stream",
     "text": [
      "C:\\Users\\taube\\AppData\\Local\\Temp\\ipykernel_1376\\2796520990.py:2: FutureWarning: \n",
      "\n",
      "Passing `palette` without assigning `hue` is deprecated and will be removed in v0.14.0. Assign the `x` variable to `hue` and set `legend=False` for the same effect.\n",
      "\n",
      "  sns.boxplot(data=estrellas, x='Star category', y='Absolute magnitude (Mv)', palette=\"muted\" )\n"
     ]
    },
    {
     "data": {
      "image/png": "[encoded data removed]",
      "text/plain": [
       "<Figure size 1300x800 with 1 Axes>"
      ]
     },
     "metadata": {},
     "output_type": "display_data"
    }
   ],
   "source": [
    "plt.figure(figsize=(13,8))\n",
    "sns.boxplot(data=estrellas, x='Star category', y='Absolute magnitude (Mv)', palette=\"muted\" )\n",
    "plt.show()"
   ]
  },
  {
   "cell_type": "code",
   "execution_count": 90,
   "metadata": {},
   "outputs": [
    {
     "name": "stdout",
     "output_type": "stream",
     "text": [
      "Star type valores únicos: [0 1 2 3 4 5]\n",
      "Star category valores únicos: ['Brown Dwarf' 'Red Dwarf' 'White Dwarf' 'Main Sequence' 'Supergiant'\n",
      " 'Hypergiant']\n",
      "Star color valores únicos: ['Red' 'Blue White' 'White' 'Yellowish White' 'Blue white'\n",
      " 'Pale yellow orange' 'Blue' 'Blue-white' 'Whitish' 'yellow-white'\n",
      " 'Orange' 'White-Yellow' 'white' 'Blue ' 'yellowish' 'Yellowish'\n",
      " 'Orange-Red' 'Blue white ' 'Blue-White']\n",
      "Spectral Class valores únicos: ['M' 'B' 'A' 'F' 'O' 'K' 'G']\n"
     ]
    }
   ],
   "source": [
    "# Vemos los valores únicos de cada columna\n",
    "print(f'Star type valores únicos: {estrellas['Star type'].unique()}')\n",
    "print(f'Star category valores únicos: {estrellas['Star category'].unique()}')\n",
    "print(f'Star color valores únicos: {estrellas['Star color'].unique()}')\n",
    "print(f'Spectral Class valores únicos: {estrellas['Spectral Class'].unique()}')"
   ]
  },
  {
   "cell_type": "code",
   "execution_count": 91,
   "metadata": {},
   "outputs": [
    {
     "name": "stdout",
     "output_type": "stream",
     "text": [
      "Index(['Temperature (K)', 'Luminosity (L/Lo)', 'Radius (R/Ro)',\n",
      "       'Absolute magnitude (Mv)', 'Star type', 'Star category',\n",
      "       'Spectral Class'],\n",
      "      dtype='object')\n",
      "Temperature (K)            0\n",
      "Luminosity (L/Lo)          0\n",
      "Radius (R/Ro)              0\n",
      "Absolute magnitude (Mv)    0\n",
      "Star type                  0\n",
      "Star category              0\n",
      "Spectral Class             0\n",
      "dtype: int64\n"
     ]
    }
   ],
   "source": [
    "# Como la temperatura y la categoría ya me las categorizan, el color no nos aporta información extra\n",
    "estrellas = estrellas.drop(columns=['Star color'])\n",
    "print(estrellas.columns)\n",
    "print(estrellas.isnull().sum())"
   ]
  },
  {
   "cell_type": "markdown",
   "metadata": {},
   "source": [
    "> Quiero ver si se puede eliminar otra columna. A grandes rasgos pareciera que Star Category y Star Type son las mismas con diferentes referencias, pero para confirmarlo podríamos mapear una de ellas y calcular la correlación entre ambas."
   ]
  },
  {
   "cell_type": "code",
   "execution_count": 92,
   "metadata": {},
   "outputs": [
    {
     "name": "stdout",
     "output_type": "stream",
     "text": [
      "                       Star type  Star category mapeado\n",
      "Star type                    1.0                    1.0\n",
      "Star category mapeado        1.0                    1.0\n"
     ]
    }
   ],
   "source": [
    "mapeo_category_type = {\n",
    "    'Brown Dwarf': 0,\n",
    "    'Red Dwarf': 1,\n",
    "    'White Dwarf': 2,\n",
    "    'Main Sequence': 3,\n",
    "    'Supergiant': 4,\n",
    "    'Hypergiant': 5\n",
    "}\n",
    "\n",
    "# Aplicar el mapeo a la columna \"Star category\"\n",
    "estrellas['Star category mapeado'] = estrellas['Star category'].map(mapeo_category_type)\n",
    "# Calcular la correlación con 'Star type'\n",
    "correlation = estrellas[['Star type', 'Star category mapeado']].corr()\n",
    "print(correlation)"
   ]
  },
  {
   "cell_type": "markdown",
   "metadata": {},
   "source": [
    ">> La columna de Star Type y la de Star Category mapeado tienen una correlación de 1, lo cual nos indica que nos brindan la misma información. Por lo tanto, podemos eliminar una de las dos. Lo mejor sería quedarnos con una categórica y pasarla a numérica con dummies para no incidir error en el modelo."
   ]
  },
  {
   "cell_type": "code",
   "execution_count": 93,
   "metadata": {},
   "outputs": [],
   "source": [
    "estrellas = estrellas.drop(columns='Star type')\n",
    "estrellas = estrellas.drop(columns='Star category mapeado')"
   ]
  },
  {
   "cell_type": "code",
   "execution_count": 94,
   "metadata": {},
   "outputs": [
    {
     "name": "stdout",
     "output_type": "stream",
     "text": [
      "Columnas del dataframe: Index(['Temperature (K)', 'Luminosity (L/Lo)', 'Radius (R/Ro)',\n",
      "       'Absolute magnitude (Mv)', 'Star category', 'Spectral Class'],\n",
      "      dtype='object')\n",
      "------------------------------\n",
      "   Temperature (K)  Luminosity (L/Lo)  Radius (R/Ro)  Absolute magnitude (Mv)  \\\n",
      "0             3068           0.002400         0.1700                    16.12   \n",
      "1             3042           0.000500         0.1542                    16.60   \n",
      "2             2600           0.000300         0.1020                    18.70   \n",
      "3             2800           0.000200         0.1600                    16.65   \n",
      "4             1939           0.000138         0.1030                    20.06   \n",
      "\n",
      "  Star category Spectral Class  \n",
      "0   Brown Dwarf              M  \n",
      "1   Brown Dwarf              M  \n",
      "2   Brown Dwarf              M  \n",
      "3   Brown Dwarf              M  \n",
      "4   Brown Dwarf              M  \n"
     ]
    }
   ],
   "source": [
    "print(f'Columnas del dataframe: {estrellas.columns}')\n",
    "print(\"-\"*30)\n",
    "print(estrellas.head())"
   ]
  },
  {
   "cell_type": "code",
   "execution_count": 95,
   "metadata": {},
   "outputs": [],
   "source": [
    "# Separo en train y test\n",
    "X = estrellas.drop(columns='Spectral Class') # Variables predictoras\n",
    "y = estrellas['Spectral Class'] # Variable a predecir\n",
    "X_train, X_test, y_train, y_test = train_test_split(X, y, test_size=0.2, random_state=42)"
   ]
  },
  {
   "cell_type": "code",
   "execution_count": 96,
   "metadata": {},
   "outputs": [],
   "source": [
    "# Dividir train en train y validation\n",
    "X_train, X_val, y_train, y_val = train_test_split(X_train, y_train, test_size = 0.2, random_state=42)"
   ]
  },
  {
   "cell_type": "code",
   "execution_count": 97,
   "metadata": {},
   "outputs": [],
   "source": [
    "# Preprocesar datos faltantes, en este caso no tenemos.\n",
    "# Preprocesar variables categoricas\n",
    "def preprocesar_variables_categoricas(data, column):\n",
    "    '''Preprocesar variables categoricas'''\n",
    "    # Obtener dummies de columna Star Category\n",
    "    dummies = pd.get_dummies(data[[column]],dtype=int)\n",
    "    # Eliminar columnas originales\n",
    "    data.drop(columns=[column], inplace=True)\n",
    "    # Concatenar dummies\n",
    "    data = pd.concat([data, dummies], axis=1)\n",
    "    return data\n",
    "\n",
    "X_train = preprocesar_variables_categoricas(X_train, 'Star category')\n",
    "X_val = preprocesar_variables_categoricas(X_val, 'Star category')\n",
    "X_test = preprocesar_variables_categoricas(X_test, 'Star category')"
   ]
  },
  {
   "cell_type": "code",
   "execution_count": 98,
   "metadata": {},
   "outputs": [
    {
     "data": {
      "text/html": [
       "<div>\n",
       "<style scoped>\n",
       "    .dataframe tbody tr th:only-of-type {\n",
       "        vertical-align: middle;\n",
       "    }\n",
       "\n",
       "    .dataframe tbody tr th {\n",
       "        vertical-align: top;\n",
       "    }\n",
       "\n",
       "    .dataframe thead th {\n",
       "        text-align: right;\n",
       "    }\n",
       "</style>\n",
       "<table border=\"1\" class=\"dataframe\">\n",
       "  <thead>\n",
       "    <tr style=\"text-align: right;\">\n",
       "      <th></th>\n",
       "      <th>Temperature (K)</th>\n",
       "      <th>Luminosity (L/Lo)</th>\n",
       "      <th>Radius (R/Ro)</th>\n",
       "      <th>Absolute magnitude (Mv)</th>\n",
       "      <th>Star category_Brown Dwarf</th>\n",
       "      <th>Star category_Hypergiant</th>\n",
       "      <th>Star category_Main Sequence</th>\n",
       "      <th>Star category_Red Dwarf</th>\n",
       "      <th>Star category_Supergiant</th>\n",
       "      <th>Star category_White Dwarf</th>\n",
       "    </tr>\n",
       "  </thead>\n",
       "  <tbody>\n",
       "    <tr>\n",
       "      <th>27</th>\n",
       "      <td>7700</td>\n",
       "      <td>0.000110</td>\n",
       "      <td>0.0128</td>\n",
       "      <td>14.470</td>\n",
       "      <td>0</td>\n",
       "      <td>0</td>\n",
       "      <td>0</td>\n",
       "      <td>0</td>\n",
       "      <td>0</td>\n",
       "      <td>1</td>\n",
       "    </tr>\n",
       "    <tr>\n",
       "      <th>181</th>\n",
       "      <td>2914</td>\n",
       "      <td>0.000631</td>\n",
       "      <td>0.1160</td>\n",
       "      <td>18.390</td>\n",
       "      <td>1</td>\n",
       "      <td>0</td>\n",
       "      <td>0</td>\n",
       "      <td>0</td>\n",
       "      <td>0</td>\n",
       "      <td>0</td>\n",
       "    </tr>\n",
       "    <tr>\n",
       "      <th>232</th>\n",
       "      <td>32489</td>\n",
       "      <td>648430.000000</td>\n",
       "      <td>1948.5000</td>\n",
       "      <td>-10.840</td>\n",
       "      <td>0</td>\n",
       "      <td>1</td>\n",
       "      <td>0</td>\n",
       "      <td>0</td>\n",
       "      <td>0</td>\n",
       "      <td>0</td>\n",
       "    </tr>\n",
       "    <tr>\n",
       "      <th>208</th>\n",
       "      <td>17920</td>\n",
       "      <td>0.001110</td>\n",
       "      <td>0.0106</td>\n",
       "      <td>11.660</td>\n",
       "      <td>0</td>\n",
       "      <td>0</td>\n",
       "      <td>0</td>\n",
       "      <td>0</td>\n",
       "      <td>0</td>\n",
       "      <td>1</td>\n",
       "    </tr>\n",
       "    <tr>\n",
       "      <th>205</th>\n",
       "      <td>19920</td>\n",
       "      <td>0.001560</td>\n",
       "      <td>0.0142</td>\n",
       "      <td>11.340</td>\n",
       "      <td>0</td>\n",
       "      <td>0</td>\n",
       "      <td>0</td>\n",
       "      <td>0</td>\n",
       "      <td>0</td>\n",
       "      <td>1</td>\n",
       "    </tr>\n",
       "    <tr>\n",
       "      <th>...</th>\n",
       "      <td>...</td>\n",
       "      <td>...</td>\n",
       "      <td>...</td>\n",
       "      <td>...</td>\n",
       "      <td>...</td>\n",
       "      <td>...</td>\n",
       "      <td>...</td>\n",
       "      <td>...</td>\n",
       "      <td>...</td>\n",
       "      <td>...</td>\n",
       "    </tr>\n",
       "    <tr>\n",
       "      <th>200</th>\n",
       "      <td>16790</td>\n",
       "      <td>0.001400</td>\n",
       "      <td>0.0121</td>\n",
       "      <td>12.870</td>\n",
       "      <td>0</td>\n",
       "      <td>0</td>\n",
       "      <td>0</td>\n",
       "      <td>0</td>\n",
       "      <td>0</td>\n",
       "      <td>1</td>\n",
       "    </tr>\n",
       "    <tr>\n",
       "      <th>120</th>\n",
       "      <td>3323</td>\n",
       "      <td>0.000430</td>\n",
       "      <td>0.0912</td>\n",
       "      <td>17.160</td>\n",
       "      <td>1</td>\n",
       "      <td>0</td>\n",
       "      <td>0</td>\n",
       "      <td>0</td>\n",
       "      <td>0</td>\n",
       "      <td>0</td>\n",
       "    </tr>\n",
       "    <tr>\n",
       "      <th>216</th>\n",
       "      <td>9320</td>\n",
       "      <td>29.000000</td>\n",
       "      <td>1.9100</td>\n",
       "      <td>1.236</td>\n",
       "      <td>0</td>\n",
       "      <td>0</td>\n",
       "      <td>1</td>\n",
       "      <td>0</td>\n",
       "      <td>0</td>\n",
       "      <td>0</td>\n",
       "    </tr>\n",
       "    <tr>\n",
       "      <th>74</th>\n",
       "      <td>3550</td>\n",
       "      <td>0.004000</td>\n",
       "      <td>0.2910</td>\n",
       "      <td>10.890</td>\n",
       "      <td>0</td>\n",
       "      <td>0</td>\n",
       "      <td>0</td>\n",
       "      <td>1</td>\n",
       "      <td>0</td>\n",
       "      <td>0</td>\n",
       "    </tr>\n",
       "    <tr>\n",
       "      <th>178</th>\n",
       "      <td>12100</td>\n",
       "      <td>120000.000000</td>\n",
       "      <td>708.9000</td>\n",
       "      <td>-7.840</td>\n",
       "      <td>0</td>\n",
       "      <td>1</td>\n",
       "      <td>0</td>\n",
       "      <td>0</td>\n",
       "      <td>0</td>\n",
       "      <td>0</td>\n",
       "    </tr>\n",
       "  </tbody>\n",
       "</table>\n",
       "<p>153 rows × 10 columns</p>\n",
       "</div>"
      ],
      "text/plain": [
       "     Temperature (K)  Luminosity (L/Lo)  Radius (R/Ro)  \\\n",
       "27              7700           0.000110         0.0128   \n",
       "181             2914           0.000631         0.1160   \n",
       "232            32489      648430.000000      1948.5000   \n",
       "208            17920           0.001110         0.0106   \n",
       "205            19920           0.001560         0.0142   \n",
       "..               ...                ...            ...   \n",
       "200            16790           0.001400         0.0121   \n",
       "120             3323           0.000430         0.0912   \n",
       "216             9320          29.000000         1.9100   \n",
       "74              3550           0.004000         0.2910   \n",
       "178            12100      120000.000000       708.9000   \n",
       "\n",
       "     Absolute magnitude (Mv)  Star category_Brown Dwarf  \\\n",
       "27                    14.470                          0   \n",
       "181                   18.390                          1   \n",
       "232                  -10.840                          0   \n",
       "208                   11.660                          0   \n",
       "205                   11.340                          0   \n",
       "..                       ...                        ...   \n",
       "200                   12.870                          0   \n",
       "120                   17.160                          1   \n",
       "216                    1.236                          0   \n",
       "74                    10.890                          0   \n",
       "178                   -7.840                          0   \n",
       "\n",
       "     Star category_Hypergiant  Star category_Main Sequence  \\\n",
       "27                          0                            0   \n",
       "181                         0                            0   \n",
       "232                         1                            0   \n",
       "208                         0                            0   \n",
       "205                         0                            0   \n",
       "..                        ...                          ...   \n",
       "200                         0                            0   \n",
       "120                         0                            0   \n",
       "216                         0                            1   \n",
       "74                          0                            0   \n",
       "178                         1                            0   \n",
       "\n",
       "     Star category_Red Dwarf  Star category_Supergiant  \\\n",
       "27                         0                         0   \n",
       "181                        0                         0   \n",
       "232                        0                         0   \n",
       "208                        0                         0   \n",
       "205                        0                         0   \n",
       "..                       ...                       ...   \n",
       "200                        0                         0   \n",
       "120                        0                         0   \n",
       "216                        0                         0   \n",
       "74                         1                         0   \n",
       "178                        0                         0   \n",
       "\n",
       "     Star category_White Dwarf  \n",
       "27                           1  \n",
       "181                          0  \n",
       "232                          0  \n",
       "208                          1  \n",
       "205                          1  \n",
       "..                         ...  \n",
       "200                          1  \n",
       "120                          0  \n",
       "216                          0  \n",
       "74                           0  \n",
       "178                          0  \n",
       "\n",
       "[153 rows x 10 columns]"
      ]
     },
     "execution_count": 98,
     "metadata": {},
     "output_type": "execute_result"
    }
   ],
   "source": [
    "X_train"
   ]
  },
  {
   "cell_type": "code",
   "execution_count": 99,
   "metadata": {},
   "outputs": [
    {
     "name": "stdout",
     "output_type": "stream",
     "text": [
      "Temperature (K)                  int64\n",
      "Luminosity (L/Lo)              float64\n",
      "Radius (R/Ro)                  float64\n",
      "Absolute magnitude (Mv)        float64\n",
      "Star category_Brown Dwarf        int32\n",
      "Star category_Hypergiant         int32\n",
      "Star category_Main Sequence      int32\n",
      "Star category_Red Dwarf          int32\n",
      "Star category_Supergiant         int32\n",
      "Star category_White Dwarf        int32\n",
      "dtype: object\n"
     ]
    }
   ],
   "source": [
    "# Verifica los tipos de datos de cada columna\n",
    "print(pd.DataFrame(X_train).dtypes)"
   ]
  },
  {
   "cell_type": "code",
   "execution_count": 100,
   "metadata": {},
   "outputs": [],
   "source": [
    "# Normalizar datos\n",
    "def normalizar_datos(data):\n",
    "    '''Normalizar datos'''\n",
    "    scaler = StandardScaler()\n",
    "    data = scaler.fit_transform(data)\n",
    "    return data\n",
    "\n",
    "X_train = normalizar_datos(X_train)\n",
    "X_val = normalizar_datos(X_val)\n",
    "X_test = normalizar_datos(X_test)"
   ]
  },
  {
   "cell_type": "code",
   "execution_count": 101,
   "metadata": {},
   "outputs": [
    {
     "name": "stdout",
     "output_type": "stream",
     "text": [
      "Porcentaje de entrenamiento: 63.75%\n",
      "Porcentaje de validación del entrenamiento: 25.49%\n",
      "Porcentaje de prueba: 20.00%\n"
     ]
    }
   ],
   "source": [
    "print(f\"Porcentaje de entrenamiento: {(len(X_train) / len(estrellas)) * 100:.2f}%\")\n",
    "print(f\"Porcentaje de validación del entrenamiento: {((len(X_val) / len(X_train)) * 100):.2f}%\")\n",
    "print(f\"Porcentaje de prueba: {(len(X_test) / len(estrellas)) * 100:.2f}%\")"
   ]
  },
  {
   "cell_type": "markdown",
   "metadata": {},
   "source": [
    "2. Crear 3 modelos de entrenamiento, probarlos y comparar métricas obtenidas \n",
    "para cada uno."
   ]
  },
  {
   "cell_type": "code",
   "execution_count": 102,
   "metadata": {},
   "outputs": [
    {
     "name": "stdout",
     "output_type": "stream",
     "text": [
      "Metricas de evaluacion de KNN:\n",
      "Accuracy: 0.9230769230769231\n",
      "Precision: 0.9040723981900453\n",
      "Recall: 0.9230769230769231\n",
      "F1: 0.9109039109039109\n",
      "==> Reporte de Clasificación (macro + weighted):\n",
      "              precision    recall  f1-score   support\n",
      "\n",
      "           A       0.80      1.00      0.89         4\n",
      "           B       1.00      0.83      0.91         6\n",
      "           F       0.75      0.75      0.75         4\n",
      "           G       1.00      0.00      0.00         1\n",
      "           M       0.94      1.00      0.97        16\n",
      "           O       1.00      1.00      1.00         8\n",
      "\n",
      "    accuracy                           0.92        39\n",
      "   macro avg       0.92      0.76      0.75        39\n",
      "weighted avg       0.93      0.92      0.91        39\n",
      "\n"
     ]
    },
    {
     "name": "stderr",
     "output_type": "stream",
     "text": [
      "c:\\Users\\taube\\AppData\\Local\\Programs\\Python\\Python312\\Lib\\site-packages\\sklearn\\metrics\\_classification.py:1531: UndefinedMetricWarning: Precision is ill-defined and being set to 0.0 in labels with no predicted samples. Use `zero_division` parameter to control this behavior.\n",
      "  _warn_prf(average, modifier, f\"{metric.capitalize()} is\", len(result))\n"
     ]
    },
    {
     "data": {
      "image/png": "[encoded data removed]",
      "text/plain": [
       "<Figure size 640x480 with 2 Axes>"
      ]
     },
     "metadata": {},
     "output_type": "display_data"
    },
    {
     "name": "stdout",
     "output_type": "stream",
     "text": [
      "--------------------------------------------------\n",
      "Metricas de evaluacion de Random Forest:\n",
      "Accuracy: 0.8205128205128205\n",
      "Precision: 0.8017094017094016\n",
      "Recall: 0.8205128205128205\n",
      "F1: 0.806993006993007\n",
      "==> Reporte de Clasificación (macro + weighted):\n",
      "              precision    recall  f1-score   support\n",
      "\n",
      "           A       0.67      1.00      0.80         4\n",
      "           B       0.60      0.50      0.55         6\n",
      "           F       0.50      0.50      0.50         4\n",
      "           G       1.00      0.00      0.00         1\n",
      "           M       1.00      1.00      1.00        16\n",
      "           O       0.88      0.88      0.88         8\n",
      "\n",
      "    accuracy                           0.82        39\n",
      "   macro avg       0.77      0.65      0.62        39\n",
      "weighted avg       0.83      0.82      0.81        39\n",
      "\n"
     ]
    },
    {
     "name": "stderr",
     "output_type": "stream",
     "text": [
      "c:\\Users\\taube\\AppData\\Local\\Programs\\Python\\Python312\\Lib\\site-packages\\sklearn\\metrics\\_classification.py:1531: UndefinedMetricWarning: Precision is ill-defined and being set to 0.0 in labels with no predicted samples. Use `zero_division` parameter to control this behavior.\n",
      "  _warn_prf(average, modifier, f\"{metric.capitalize()} is\", len(result))\n"
     ]
    },
    {
     "data": {
      "image/png": "[encoded data removed]",
      "text/plain": [
       "<Figure size 640x480 with 2 Axes>"
      ]
     },
     "metadata": {},
     "output_type": "display_data"
    },
    {
     "name": "stdout",
     "output_type": "stream",
     "text": [
      "--------------------------------------------------\n",
      "Metricas de evaluacion de Decision Tree:\n",
      "Accuracy: 0.7692307692307693\n",
      "Precision: 0.7684981684981685\n",
      "Recall: 0.7692307692307693\n",
      "F1: 0.7631701631701632\n",
      "==> Reporte de Clasificación (macro + weighted):\n",
      "              precision    recall  f1-score   support\n",
      "\n",
      "           A       0.75      0.75      0.75         4\n",
      "           B       0.40      0.33      0.36         6\n",
      "           F       0.43      0.75      0.55         4\n",
      "           G       1.00      0.00      0.00         1\n",
      "           M       1.00      1.00      1.00        16\n",
      "           O       0.86      0.75      0.80         8\n",
      "\n",
      "    accuracy                           0.77        39\n",
      "   macro avg       0.74      0.60      0.58        39\n",
      "weighted avg       0.79      0.77      0.76        39\n",
      "\n"
     ]
    },
    {
     "name": "stderr",
     "output_type": "stream",
     "text": [
      "c:\\Users\\taube\\AppData\\Local\\Programs\\Python\\Python312\\Lib\\site-packages\\sklearn\\metrics\\_classification.py:1531: UndefinedMetricWarning: Precision is ill-defined and being set to 0.0 in labels with no predicted samples. Use `zero_division` parameter to control this behavior.\n",
      "  _warn_prf(average, modifier, f\"{metric.capitalize()} is\", len(result))\n"
     ]
    },
    {
     "data": {
      "image/png": "[encoded data removed]",
      "text/plain": [
       "<Figure size 640x480 with 2 Axes>"
      ]
     },
     "metadata": {},
     "output_type": "display_data"
    },
    {
     "name": "stdout",
     "output_type": "stream",
     "text": [
      "--------------------------------------------------\n"
     ]
    }
   ],
   "source": [
    "from sklearn.metrics import accuracy_score, precision_score, recall_score, f1_score, classification_report, confusion_matrix\n",
    "import seaborn as sns\n",
    "import matplotlib.pyplot as plt\n",
    "\n",
    "# Diccionario vacío para guardar los modelos entrenados\n",
    "modelos_entrenados = {}\n",
    "\n",
    "# Evaluar accuracy, precision, recall y F1\n",
    "def obtener_metricas_evaluacion(nombre_modelo, y_real, y_predicho):\n",
    "    print(f'Metricas de evaluacion de {nombre_modelo}:')\n",
    "    print(\"Accuracy:\", accuracy_score(y_real, y_predicho))  # Precisión general del modelo\n",
    "    print(\"Precision:\", precision_score(y_real, y_predicho, average='weighted'))    # Precisión ponderada para todas las clases\n",
    "    print(\"Recall:\", recall_score(y_real, y_predicho, average='weighted'))  # Sensibilidad o Recall ponderado\n",
    "    print(\"F1:\", f1_score(y_real, y_predicho, average='weighted'))  # Puntaje F1 ponderado (balance entre precisión y recall)\n",
    "    \n",
    "    report = classification_report(y_real, y_predicho, zero_division=1)  # Clasificación detallada (macro y weighted)\n",
    "    print(f\"==> Reporte de Clasificación (macro + weighted):\\n{report}\")\n",
    "\n",
    "    # Matriz de confusión\n",
    "    matrix_confusion = confusion_matrix(y_real, y_predicho)\n",
    "    sns.heatmap(matrix_confusion, annot=True, fmt='d', cmap='Blues')\n",
    "    plt.xlabel(\"Predicho\")\n",
    "    plt.ylabel(\"Real\")\n",
    "    plt.show()\n",
    "\n",
    "# Modelos que se van a entrenar\n",
    "modelos = {\n",
    "    \"KNN\": KNeighborsClassifier(n_neighbors=5),\n",
    "    \"Random Forest\": RandomForestClassifier(),\n",
    "    #\"Naive Bayes\": GaussianNB(),\n",
    "    \"Decision Tree\": DecisionTreeClassifier()\n",
    "}\n",
    "\n",
    "# Entrenamiento y evaluación de cada modelo\n",
    "for nombre, modelo in modelos.items():  # Para cada modelo:\n",
    "    modelo.fit(X_train, y_train)    # Entrenamos el modelo con los datos de entrenamiento\n",
    "    modelos_entrenados[nombre] = modelo  # Guardamos el modelo entrenado en el diccionario\n",
    "    \n",
    "    y_pred = modelo.predict(X_val)  # Generamos predicciones para los datos de validación\n",
    "    obtener_metricas_evaluacion(nombre, y_val, y_pred)  # Obtenemos las métricas para evaluarlo\n",
    "    print(\"-\" * 50)"
   ]
  },
  {
   "cell_type": "markdown",
   "metadata": {},
   "source": [
    "3. Investigar acerca de hiperparámetros de cada modelo, cambiar dos en cada \n",
    "uno y probar nuevamente los modelos comparando sus métricas de \n",
    "evaluación."
   ]
  },
  {
   "cell_type": "code",
   "execution_count": 103,
   "metadata": {},
   "outputs": [
    {
     "name": "stderr",
     "output_type": "stream",
     "text": [
      "c:\\Users\\taube\\AppData\\Local\\Programs\\Python\\Python312\\Lib\\site-packages\\sklearn\\model_selection\\_split.py:776: UserWarning: The least populated class in y has only 3 members, which is less than n_splits=5.\n",
      "  warnings.warn(\n"
     ]
    },
    {
     "name": "stdout",
     "output_type": "stream",
     "text": [
      "Mejores hiperparámetros para KNN: {'n_neighbors': 5, 'weights': 'distance'}\n",
      "Métricas de evaluación de KNN:\n",
      "Accuracy: 0.8974358974358975\n",
      "Precision: 0.8812803753980223\n",
      "Recall: 0.8974358974358975\n",
      "F1: 0.8820543291131526\n",
      "==> Reporte de Clasificación (macro + weighted):\n",
      "              precision    recall  f1-score   support\n",
      "\n",
      "           A       0.80      1.00      0.89         4\n",
      "           B       1.00      0.67      0.80         6\n",
      "           F       0.75      0.75      0.75         4\n",
      "           G       1.00      0.00      0.00         1\n",
      "           M       0.94      1.00      0.97        16\n",
      "           O       0.89      1.00      0.94         8\n",
      "\n",
      "    accuracy                           0.90        39\n",
      "   macro avg       0.90      0.74      0.72        39\n",
      "weighted avg       0.91      0.90      0.88        39\n",
      "\n"
     ]
    },
    {
     "name": "stderr",
     "output_type": "stream",
     "text": [
      "c:\\Users\\taube\\AppData\\Local\\Programs\\Python\\Python312\\Lib\\site-packages\\sklearn\\metrics\\_classification.py:1531: UndefinedMetricWarning: Precision is ill-defined and being set to 0.0 in labels with no predicted samples. Use `zero_division` parameter to control this behavior.\n",
      "  _warn_prf(average, modifier, f\"{metric.capitalize()} is\", len(result))\n"
     ]
    },
    {
     "data": {
      "image/png": "[encoded data removed]",
      "text/plain": [
       "<Figure size 640x480 with 2 Axes>"
      ]
     },
     "metadata": {},
     "output_type": "display_data"
    },
    {
     "name": "stdout",
     "output_type": "stream",
     "text": [
      "--------------------------------------------------\n"
     ]
    },
    {
     "name": "stderr",
     "output_type": "stream",
     "text": [
      "c:\\Users\\taube\\AppData\\Local\\Programs\\Python\\Python312\\Lib\\site-packages\\sklearn\\model_selection\\_split.py:776: UserWarning: The least populated class in y has only 3 members, which is less than n_splits=5.\n",
      "  warnings.warn(\n"
     ]
    },
    {
     "name": "stdout",
     "output_type": "stream",
     "text": [
      "Mejores hiperparámetros para Random Forest: {'max_depth': 10, 'n_estimators': 100}\n",
      "Métricas de evaluación de Random Forest:\n",
      "Accuracy: 0.7948717948717948\n",
      "Precision: 0.7908831908831909\n",
      "Recall: 0.7948717948717948\n",
      "F1: 0.7810960281548517\n",
      "==> Reporte de Clasificación (macro + weighted):\n",
      "              precision    recall  f1-score   support\n",
      "\n",
      "           A       0.60      0.75      0.67         4\n",
      "           B       0.67      0.33      0.44         6\n",
      "           F       0.33      0.50      0.40         4\n",
      "           G       1.00      0.00      0.00         1\n",
      "           M       1.00      1.00      1.00        16\n",
      "           O       0.89      1.00      0.94         8\n",
      "\n",
      "    accuracy                           0.79        39\n",
      "   macro avg       0.75      0.60      0.58        39\n",
      "weighted avg       0.82      0.79      0.78        39\n",
      "\n"
     ]
    },
    {
     "name": "stderr",
     "output_type": "stream",
     "text": [
      "c:\\Users\\taube\\AppData\\Local\\Programs\\Python\\Python312\\Lib\\site-packages\\sklearn\\metrics\\_classification.py:1531: UndefinedMetricWarning: Precision is ill-defined and being set to 0.0 in labels with no predicted samples. Use `zero_division` parameter to control this behavior.\n",
      "  _warn_prf(average, modifier, f\"{metric.capitalize()} is\", len(result))\n"
     ]
    },
    {
     "data": {
      "image/png": "[encoded data removed]",
      "text/plain": [
       "<Figure size 640x480 with 2 Axes>"
      ]
     },
     "metadata": {},
     "output_type": "display_data"
    },
    {
     "name": "stdout",
     "output_type": "stream",
     "text": [
      "--------------------------------------------------\n",
      "Mejores hiperparámetros para Decision Tree: {'criterion': 'gini', 'max_depth': None}\n",
      "Métricas de evaluación de Decision Tree:\n",
      "Accuracy: 0.7692307692307693\n",
      "Precision: 0.7684981684981685\n",
      "Recall: 0.7692307692307693\n",
      "F1: 0.7631701631701632\n",
      "==> Reporte de Clasificación (macro + weighted):\n",
      "              precision    recall  f1-score   support\n",
      "\n",
      "           A       0.75      0.75      0.75         4\n",
      "           B       0.40      0.33      0.36         6\n",
      "           F       0.43      0.75      0.55         4\n",
      "           G       1.00      0.00      0.00         1\n",
      "           M       1.00      1.00      1.00        16\n",
      "           O       0.86      0.75      0.80         8\n",
      "\n",
      "    accuracy                           0.77        39\n",
      "   macro avg       0.74      0.60      0.58        39\n",
      "weighted avg       0.79      0.77      0.76        39\n",
      "\n"
     ]
    },
    {
     "name": "stderr",
     "output_type": "stream",
     "text": [
      "c:\\Users\\taube\\AppData\\Local\\Programs\\Python\\Python312\\Lib\\site-packages\\sklearn\\model_selection\\_split.py:776: UserWarning: The least populated class in y has only 3 members, which is less than n_splits=5.\n",
      "  warnings.warn(\n",
      "c:\\Users\\taube\\AppData\\Local\\Programs\\Python\\Python312\\Lib\\site-packages\\sklearn\\metrics\\_classification.py:1531: UndefinedMetricWarning: Precision is ill-defined and being set to 0.0 in labels with no predicted samples. Use `zero_division` parameter to control this behavior.\n",
      "  _warn_prf(average, modifier, f\"{metric.capitalize()} is\", len(result))\n"
     ]
    },
    {
     "data": {
      "image/png": "[encoded data removed]",
      "text/plain": [
       "<Figure size 640x480 with 2 Axes>"
      ]
     },
     "metadata": {},
     "output_type": "display_data"
    },
    {
     "name": "stdout",
     "output_type": "stream",
     "text": [
      "--------------------------------------------------\n"
     ]
    }
   ],
   "source": [
    "from sklearn.model_selection import GridSearchCV\n",
    "\n",
    "# Modelos y hiperparámetros a ajustar (dos por modelo)\n",
    "param_grid = {\n",
    "    \"KNN\": {\n",
    "        \"model\": KNeighborsClassifier(),\n",
    "        \"params\": {\n",
    "            \"n_neighbors\": [3, 5, 7],\n",
    "            \"weights\": [\"uniform\", \"distance\"]\n",
    "        }\n",
    "    },\n",
    "    \"Random Forest\": {\n",
    "        \"model\": RandomForestClassifier(),\n",
    "        \"params\": {\n",
    "            \"n_estimators\": [50, 100],\n",
    "            \"max_depth\": [10, 20, None]\n",
    "        }\n",
    "    },\n",
    "    \"Decision Tree\": {\n",
    "        \"model\": DecisionTreeClassifier(),\n",
    "        \"params\": {\n",
    "            \"max_depth\": [10, 20, None],\n",
    "            \"criterion\": [\"gini\", \"entropy\"]\n",
    "        }\n",
    "    }\n",
    "}\n",
    "\n",
    "# Definición de función para evaluación de métricas\n",
    "def obtener_metricas_evaluacion(nombre_modelo, y_real, y_predicho):\n",
    "    print(f'Métricas de evaluación de {nombre_modelo}:')\n",
    "    print(\"Accuracy:\", accuracy_score(y_real, y_predicho))\n",
    "    print(\"Precision:\", precision_score(y_real, y_predicho, average='weighted'))\n",
    "    print(\"Recall:\", recall_score(y_real, y_predicho, average='weighted'))\n",
    "    print(\"F1:\", f1_score(y_real, y_predicho, average='weighted'))\n",
    "    \n",
    "    report = classification_report(y_real, y_predicho, zero_division=1)\n",
    "    print(f\"==> Reporte de Clasificación (macro + weighted):\\n{report}\")\n",
    "\n",
    "    # Matriz de confusión\n",
    "    matrix_confusion = confusion_matrix(y_real, y_predicho)\n",
    "    sns.heatmap(matrix_confusion, annot=True, fmt='d', cmap='Blues')\n",
    "    plt.xlabel(\"Predicho\")\n",
    "    plt.ylabel(\"Real\")\n",
    "    plt.show()\n",
    "\n",
    "# Ajuste de hiperparámetros y evaluación\n",
    "for nombre, info in param_grid.items():\n",
    "    # Configuramos GridSearchCV con los hiperparámetros definidos\n",
    "    grid_search = GridSearchCV(estimator=info[\"model\"], param_grid=info[\"params\"], cv=5, scoring='accuracy')\n",
    "    grid_search.fit(X_train, y_train)\n",
    "    \n",
    "    # Mejora de modelo obtenido después del ajuste\n",
    "    best_model = grid_search.best_estimator_\n",
    "    print(f\"Mejores hiperparámetros para {nombre}: {grid_search.best_params_}\")\n",
    "    \n",
    "    # Predicción y evaluación del modelo en el conjunto de validación\n",
    "    y_pred = best_model.predict(X_val)\n",
    "    obtener_metricas_evaluacion(nombre, y_val, y_pred)\n",
    "    print(\"-\" * 50)\n"
   ]
  },
  {
   "cell_type": "markdown",
   "metadata": {},
   "source": [
    "4. Seleccionar el mejor modelo obtenido, probarlo en el conjunto de testeo y \n",
    "comparar las métricas obtenidas respecto al mismo modelo y sus métricas \n",
    "obtenidas con el conjunto de validación."
   ]
  },
  {
   "cell_type": "markdown",
   "metadata": {},
   "source": [
    "En nuestro caso nos dieron mejor los modelos sin el ajuste de hiperparámetros (los modelos podrían estar haciendo overfitting o underfitting), por lo que decidiremos sobre los modelos sin ajustar:"
   ]
  },
  {
   "cell_type": "markdown",
   "metadata": {},
   "source": [
    "#### Accuracy\n",
    "- KNN tiene un Accuracy de 0.92, mientras que Decision Tree tiene un Accuracy de 0.77. Esto nos indica que KNN realiza una mejor predicción general en el conjunto de validación.\n",
    "\n",
    "#### Precision, Recall y F1-Score\n",
    "- KNN presenta un **Precision** de 0.90 y un **F1-Score** de 0.91, en comparación con Decision Tree, que tiene valores de Precision y F1-Score alrededor de 0.76.\n",
    "- La **Recall** también es mejor en KNN (0.92) que en el Decision Tree (0.77).\n",
    "\n",
    "#### Reporte de Clasificación\n",
    "- Aunque algunas clases tienen métricas bajas en ambos modelos (como la clase G), el rendimiento de KNN es en general más balanceado en las diferentes clases, lo que se refleja en las métricas globales.\n",
    "\n",
    "Conclusión: el mejor modelo para comparar es **KNN**."
   ]
  },
  {
   "cell_type": "code",
   "execution_count": 104,
   "metadata": {},
   "outputs": [
    {
     "name": "stdout",
     "output_type": "stream",
     "text": [
      "Métricas de evaluación de KNN en el conjunto de prueba:\n",
      "Accuracy: 0.7916666666666666\n",
      "Precision: 0.7668754856254857\n",
      "Recall: 0.7916666666666666\n",
      "F1: 0.7632788753799392\n",
      "==> Reporte de Clasificación (macro + weighted) en el conjunto de prueba:\n",
      "              precision    recall  f1-score   support\n",
      "\n",
      "           A       0.50      0.50      0.50         2\n",
      "           B       0.82      0.90      0.86        10\n",
      "           F       0.33      0.50      0.40         2\n",
      "           K       1.00      0.00      0.00         3\n",
      "           M       0.81      1.00      0.89        21\n",
      "           O       1.00      0.60      0.75        10\n",
      "\n",
      "    accuracy                           0.79        48\n",
      "   macro avg       0.74      0.58      0.57        48\n",
      "weighted avg       0.83      0.79      0.76        48\n",
      "\n"
     ]
    },
    {
     "name": "stderr",
     "output_type": "stream",
     "text": [
      "c:\\Users\\taube\\AppData\\Local\\Programs\\Python\\Python312\\Lib\\site-packages\\sklearn\\metrics\\_classification.py:1531: UndefinedMetricWarning: Precision is ill-defined and being set to 0.0 in labels with no predicted samples. Use `zero_division` parameter to control this behavior.\n",
      "  _warn_prf(average, modifier, f\"{metric.capitalize()} is\", len(result))\n"
     ]
    },
    {
     "data": {
      "image/png": "[encoded data removed]",
      "text/plain": [
       "<Figure size 640x480 with 2 Axes>"
      ]
     },
     "metadata": {},
     "output_type": "display_data"
    }
   ],
   "source": [
    "# Usamos el modelo entrenado previamente desde el diccionario 'modelos_entrenados'\n",
    "mejor_modelo = modelos_entrenados[\"KNN\"]  # Uso el modelo entrenado de KNN\n",
    "\n",
    "y_pred_test = mejor_modelo.predict(X_test)\n",
    "\n",
    "# Evaluar las métricas en el conjunto de prueba\n",
    "print(f'Métricas de evaluación de KNN en el conjunto de prueba:')\n",
    "print(\"Accuracy:\", accuracy_score(y_test, y_pred_test))  # Precisión general\n",
    "print(\"Precision:\", precision_score(y_test, y_pred_test, average='weighted'))  # Precisión ponderada\n",
    "print(\"Recall:\", recall_score(y_test, y_pred_test, average='weighted'))  # Recall ponderado\n",
    "print(\"F1:\", f1_score(y_test, y_pred_test, average='weighted'))  # F1 ponderado\n",
    "\n",
    "# Reporte de clasificación para el conjunto de prueba\n",
    "report_test = classification_report(y_test, y_pred_test, zero_division=1)\n",
    "print(f\"==> Reporte de Clasificación (macro + weighted) en el conjunto de prueba:\\n{report_test}\")\n",
    "\n",
    "# Matriz de confusión en el conjunto de prueba\n",
    "matrix_confusion_test = confusion_matrix(y_test, y_pred_test)\n",
    "sns.heatmap(matrix_confusion_test, annot=True, fmt='d', cmap='Blues')\n",
    "plt.xlabel(\"Predicho\")\n",
    "plt.ylabel(\"Real\")\n",
    "plt.show()"
   ]
  },
  {
   "cell_type": "markdown",
   "metadata": {},
   "source": [
    "## Análisis de las métricas\n",
    "\n",
    "### 1. **Accuracy**:\n",
    "   - **Validación**: 0.92\n",
    "   - **Prueba**: 0.79\n",
    "   - **Interpretación**: Hay una caída considerable en la precisión (accuracy) en el conjunto de prueba, lo que sugiere que el modelo está teniendo dificultades para generalizar fuera del conjunto de entrenamiento y validación. Esta diferencia podría ser una señal de **sobreajuste**, donde el modelo aprende patrones específicos de los datos de entrenamiento y no se adapta bien a nuevos datos.\n",
    "\n",
    "### 2. **Precision, Recall, y F1**:\n",
    "   - **Validación**:\n",
    "     - Precision: 0.90\n",
    "     - Recall: 0.92\n",
    "     - F1: 0.91\n",
    "   - **Prueba**:\n",
    "     - Precision: 0.77\n",
    "     - Recall: 0.79\n",
    "     - F1: 0.76\n",
    "   - **Interpretación**: La caída en estos valores también es significativa en el conjunto de prueba, especialmente en **precision** y **recall**. Esto podría ser el resultado de un desequilibrio en las clases o de que el modelo no está manejando bien ciertas clases (por ejemplo, en la clase **K**, el modelo tiene una precisión y recall de 0.0). Esto también puede indicar que el modelo no está generalizando bien en clases que son menos representadas en los datos de entrenamiento o que el modelo no está capturando bien las características de los datos en el conjunto de prueba.\n",
    "\n",
    "### 3. **Clasificación detallada**:\n",
    "   - **En el conjunto de validación**, el modelo tiene buen rendimiento en clases con más muestras, como **M** y **O**, pero tiene dificultades con clases como **G**, lo cual es esperable.\n",
    "   - **En el conjunto de prueba**, se observa un desempeño aún peor, especialmente en clases como **A** y **F**. Para algunas clases, como **K**, la precisión es muy baja (0.0), lo que sugiere que el modelo no está prediciendo correctamente estas clases.\n",
    "\n",
    "---\n",
    "\n",
    "## Posibles causas y soluciones:\n",
    "\n",
    "1. **Sobreajuste (Overfitting)**: El modelo tiene un buen desempeño en el conjunto de validación, pero en el conjunto de prueba tiene un rendimiento significativamente peor. Esto puede indicar sobreajuste, donde el modelo ha aprendido demasiado bien los detalles de los datos de entrenamiento, pero no generaliza bien. Algunas soluciones:\n",
    "   - **Ajuste de hiperparámetros**: Prueba otros valores de `k` en el KNN o cambia el parámetro `weights` (por ejemplo, usando `'uniform'` en lugar de `'distance'`).\n",
    "   - **Regularización**: Prueba regularización (si es posible) para evitar que el modelo se sobreajuste.\n",
    "   - **Aumentar datos de entrenamiento**: Si tienes pocas muestras de ciertas clases, aumentar el número de ejemplos de entrenamiento para esas clases podría ayudar.\n",
    "\n",
    "2. **Desequilibrio de clases**: El modelo parece tener dificultades con clases con pocos ejemplos, como **K** y **A**. Podrías intentar:\n",
    "   - **Rebalanceo de clases**: Usar técnicas como sobremuestreo (SMOTE) o submuestreo de clases.\n",
    "   - **Cambiar el método de clasificación**: Considerar otros modelos más robustos frente a clases desbalanceadas (por ejemplo, Random Forest o un modelo basado en árboles de decisión con ajuste para clases desbalanceadas).\n",
    "\n",
    "3. **Evaluación de modelos adicionales**: Aunque KNN es un buen modelo, puede que no sea el más adecuado para este conjunto de datos. Podrías considerar probar otros modelos como **Random Forest** o **Support Vector Machines**, que tienden a manejar mejor el sobreajuste y los desequilibrios de clases.\n",
    "\n",
    "---\n",
    "\n",
    "## Comparación y acción:\n",
    "\n",
    "Puedes comparar estos resultados con otros modelos para verificar si el desempeño en el conjunto de prueba sigue siendo bajo solo para KNN o si ocurre lo mismo con otros modelos. Esto te ayudará a identificar si el problema es inherente al modelo KNN o si se debe a características de los datos, como el desequilibrio de clases o la falta de generalización.\n",
    "\n",
    "Si decides continuar con KNN, prueba:\n",
    "- Cambiar `k` (por ejemplo, probar `k=3` o `k=7`).\n",
    "- Probar otras técnicas de preprocesamiento de datos (como escalado o normalización).\n",
    "- Experimentar con diferentes estrategias de ajuste de pesos.\n",
    "\n",
    "---\n",
    "\n",
    "## Resumen:\n",
    "\n",
    "La caída en las métricas de prueba sugiere que el modelo necesita ajustes, ya sea en la forma en que está siendo entrenado o en el modelo mismo.\n"
   ]
  }
 ],
 "metadata": {
  "kernelspec": {
   "display_name": "Python 3",
   "language": "python",
   "name": "python3"
  },
  "language_info": {
   "codemirror_mode": {
    "name": "ipython",
    "version": 3
   },
   "file_extension": ".py",
   "mimetype": "text/x-python",
   "name": "python",
   "nbconvert_exporter": "python",
   "pygments_lexer": "ipython3",
   "version": "3.12.7"
  }
 },
 "nbformat": 4,
 "nbformat_minor": 2
}
