{
 "cells": [
  {
   "cell_type": "code",
   "execution_count": 41,
   "metadata": {},
   "outputs": [],
   "source": [
    "import pandas as pd\n",
    "import numpy as np"
   ]
  },
  {
   "cell_type": "markdown",
   "metadata": {},
   "source": [
    "### Ej 5"
   ]
  },
  {
   "cell_type": "code",
   "execution_count": 42,
   "metadata": {},
   "outputs": [
    {
     "name": "stdout",
     "output_type": "stream",
     "text": [
      "Media 66.0\n",
      "Mediana 75.0\n",
      "Moda: No hay moda porque todos los valores ocurren exactamente una vez\n"
     ]
    }
   ],
   "source": [
    "#EJERCICIO 5\n",
    "\n",
    "dataEj5 = [['Sem1', 20], ['Sem2', 73], ['Sem3', 75], ['Sem4', 80], ['Sem4', 82]]\n",
    "\n",
    "dfEj5 = pd.DataFrame(dataEj5, columns=['Semana', 'CantProgs'])\n",
    "\n",
    "print(\"Media\", dfEj5['CantProgs'].mean())\n",
    "print(\"Mediana\", dfEj5['CantProgs'].median())\n",
    "print(\"Moda: No hay moda porque todos los valores ocurren exactamente una vez\")\n"
   ]
  },
  {
   "cell_type": "markdown",
   "metadata": {},
   "source": [
    "### Ej 6"
   ]
  },
  {
   "cell_type": "code",
   "execution_count": 43,
   "metadata": {},
   "outputs": [
    {
     "name": "stdout",
     "output_type": "stream",
     "text": [
      "Media: 12.0\n",
      "Mediana: 13.0\n",
      "Moda: 8\n"
     ]
    }
   ],
   "source": [
    "#EJERCICIO 6\n",
    "\n",
    "dataEj6 = [['Sem1', 13], ['Sem2', 15], ['Sem3', 8], ['Sem4', 16], ['Sem4', 8]]\n",
    "\n",
    "dfEj6 = pd.DataFrame(dataEj6, columns=['Semana', 'CantReclamos'])\n",
    "\n",
    "print(\"Media:\", dfEj6['CantReclamos'].mean())\n",
    "print(\"Mediana:\", dfEj6['CantReclamos'].median())\n",
    "print(\"Moda:\", dfEj6['CantReclamos'].mode()[0]) # Elegimos el 0 porque es el único valor que se repite, entonces no habrá más modas"
   ]
  },
  {
   "cell_type": "markdown",
   "metadata": {},
   "source": [
    "### Ej 7"
   ]
  },
  {
   "cell_type": "code",
   "execution_count": 44,
   "metadata": {},
   "outputs": [
    {
     "name": "stdout",
     "output_type": "stream",
     "text": [
      "Mediana: 17.75\n",
      "Media: 20.741666666666667\n"
     ]
    }
   ],
   "source": [
    "Ejecutivo = [i+1 for i in range(12)]\n",
    "\n",
    "Remuneracion = [15.8, 17.3, 28.4, 18.2, 15.0, 24.7, 13.1, 10.2, 29.3, 34.7, 16.9, 25.3]\n",
    "\n",
    "Ejecutivo_Remuneracion = zip(Ejecutivo, Remuneracion)\n",
    "\n",
    "dfEj7 = pd.DataFrame(Ejecutivo_Remuneracion, columns=['Ejecutivo', 'Remuneracion'])\n",
    "\n",
    "print(\"Mediana:\", dfEj7['Remuneracion'].median())\n",
    "print(\"Media:\", dfEj7['Remuneracion'].mean())\n"
   ]
  },
  {
   "cell_type": "markdown",
   "metadata": {},
   "source": [
    "### Ej 8"
   ]
  },
  {
   "cell_type": "code",
   "execution_count": 46,
   "metadata": {},
   "outputs": [
    {
     "name": "stdout",
     "output_type": "stream",
     "text": [
      "Desviacion estándar: Datos    2.267787\n",
      "dtype: float64\n",
      "Varianza: Datos    5.142857\n",
      "dtype: float64\n"
     ]
    }
   ],
   "source": [
    "dataEj8 = [6, 8, 7, 10, 3, 5, 9, 8]\n",
    "\n",
    "dfEj8 = pd.DataFrame(dataEj8, columns=[\"Datos\"])\n",
    "\n",
    "print(\"Desviacion estándar:\", dfEj8.std())\n",
    "print(\"Varianza:\", np.square(dfEj8.std()))"
   ]
  },
  {
   "cell_type": "markdown",
   "metadata": {},
   "source": [
    "### Ej 9"
   ]
  },
  {
   "cell_type": "code",
   "execution_count": 69,
   "metadata": {},
   "outputs": [
    {
     "name": "stdout",
     "output_type": "stream",
     "text": [
      "Coeficiente de variacion: 17.568209223157663 %\n"
     ]
    }
   ],
   "source": [
    "dataEj9 = [10, 8, 11, 7, 9]\n",
    "dfEj9 = pd.DataFrame(dataEj9, columns=[\"Datos\"])\n",
    "coeficienteVariacion = dfEj9[\"Datos\"].std()/dfEj9[\"Datos\"].mean()\n",
    "\n",
    "print(\"Coeficiente de variacion:\", coeficienteVariacion*100, \"%\")"
   ]
  },
  {
   "cell_type": "markdown",
   "metadata": {},
   "source": [
    "### Ej 10"
   ]
  },
  {
   "cell_type": "code",
   "execution_count": 79,
   "metadata": {},
   "outputs": [
    {
     "name": "stdout",
     "output_type": "stream",
     "text": [
      "Media aritmetica sin ponderacion: 4.159999999999999\n",
      "Media aritmetica ponderada: 4.541666666666667\n"
     ]
    }
   ],
   "source": [
    "dataEj10 = [4.6, 3.2, 5.4, 2.6, 5,2]\n",
    "wght = [8, 3, 6, 2, 5]\n",
    "data_wght = [dataEj10[i]*wght[i] for i in range(5)]\n",
    "\n",
    "data = zip(dataEj10, wght, data_wght)\n",
    "dfEj10 = pd.DataFrame(data, columns=[\"Datos\", \"Peso\", \"DatosPonderados\"])\n",
    "sum_wght = dfEj10[\"Peso\"].sum()\n",
    "\n",
    "print(\"Media aritmetica sin ponderacion:\", dfEj10[\"Datos\"].mean())\n",
    "print(\"Media aritmetica ponderada:\", dfEj10[\"DatosPonderados\"].sum()/sum_wght)"
   ]
  },
  {
   "cell_type": "markdown",
   "metadata": {},
   "source": [
    "### Ej 11"
   ]
  },
  {
   "cell_type": "code",
   "execution_count": 92,
   "metadata": {},
   "outputs": [],
   "source": [
    "dataEj11 = [np.average([0, 4]), np.average([5, 9]), np.average([10, 14]), np.average([15, 19]), np.average([20, 24])]\n",
    "frec = [5, 8, 11, 9, 7]\n",
    "\n",
    "dataEj11.insert(3, \"\", [21, 23, 24, 21], True)\n",
    "\n",
    "data = zip(dataEj11, frec)\n",
    "dfEj11 = pd.DataFrame(data, columns=[\"ClasePromedio\",\"Frecuencia\"])"
   ]
  },
  {
   "cell_type": "code",
   "execution_count": null,
   "metadata": {},
   "outputs": [],
   "source": []
  }
 ],
 "metadata": {
  "kernelspec": {
   "display_name": "Python 3",
   "language": "python",
   "name": "python3"
  },
  "language_info": {
   "codemirror_mode": {
    "name": "ipython",
    "version": 3
   },
   "file_extension": ".py",
   "mimetype": "text/x-python",
   "name": "python",
   "nbconvert_exporter": "python",
   "pygments_lexer": "ipython3",
   "version": "3.12.5"
  }
 },
 "nbformat": 4,
 "nbformat_minor": 2
}
