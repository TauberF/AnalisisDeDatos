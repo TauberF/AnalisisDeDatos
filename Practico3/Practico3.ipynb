{
 "cells": [
  {
   "cell_type": "code",
   "execution_count": 17,
   "metadata": {},
   "outputs": [],
   "source": [
    "import pandas as pd\n",
    "import numpy as np\n",
    "import matplotlib.pyplot as plt\n",
    "import seaborn as sns"
   ]
  },
  {
   "cell_type": "markdown",
   "metadata": {},
   "source": [
    "### Ejercicio 5"
   ]
  },
  {
   "cell_type": "markdown",
   "metadata": {},
   "source": [
    "En una muestra aleatoria de 5 semanas se observó que una agencia de\n",
    "cruceros recibía el siguiente número de programas semanales especiales de\n",
    "cruceros al Caribe:\n",
    "20, 73, 75, 80, 82\n",
    "\n",
    "a) Calcule la media, la mediana y la moda.\n",
    "\n",
    "b) ¿Qué medida de la tendencia central describe mejor los datos?"
   ]
  },
  {
   "cell_type": "code",
   "execution_count": 134,
   "metadata": {},
   "outputs": [
    {
     "name": "stdout",
     "output_type": "stream",
     "text": [
      "Media 66.0\n",
      "Mediana 75.0\n",
      "Moda: No hay moda porque todos los valores ocurren exactamente una vez.\n"
     ]
    }
   ],
   "source": [
    "#EJERCICIO 5\n",
    "\n",
    "dataEj5 = [['Sem1', 20], ['Sem2', 73], ['Sem3', 75], ['Sem4', 80], ['Sem4', 82]]\n",
    "\n",
    "dfEj5 = pd.DataFrame(dataEj5, columns=['Semana', 'CantProgs'])\n",
    "\n",
    "print(\"Media\", dfEj5['CantProgs'].mean())\n",
    "print(\"Mediana\", dfEj5['CantProgs'].median())\n",
    "print(\"Moda: No hay moda porque todos los valores ocurren exactamente una vez.\")\n"
   ]
  },
  {
   "cell_type": "markdown",
   "metadata": {},
   "source": [
    "### Ejercicio 6"
   ]
  },
  {
   "cell_type": "markdown",
   "metadata": {},
   "source": [
    "El director de unos grandes almacenes tiene interés en saber cuántas\n",
    "reclamaciones recibe el departamento de atención al cliente sobre la calidad\n",
    "de los aparatos eléctricos que venden los almacenes. Los registros de un\n",
    "periodo de 5 semanas muestran el siguiente número de reclamaciones\n",
    "semanales:\n",
    "13, 15, 8, 16, 8\n",
    "\n",
    "a) Calcule el número medio de reclamaciones semanales.\n",
    "\n",
    "b) Calcule el número mediano de reclamaciones semanales.\n",
    "\n",
    "c) Halle la moda."
   ]
  },
  {
   "cell_type": "code",
   "execution_count": 136,
   "metadata": {},
   "outputs": [
    {
     "name": "stdout",
     "output_type": "stream",
     "text": [
      "Media: 12.0\n",
      "Mediana: 13.0\n",
      "Moda: 8\n"
     ]
    }
   ],
   "source": [
    "#EJERCICIO 6\n",
    "\n",
    "dataEj6 = [['Sem1', 13], ['Sem2', 15], ['Sem3', 8], ['Sem4', 16], ['Sem4', 8]]\n",
    "\n",
    "dfEj6 = pd.DataFrame(dataEj6, columns=['Semana', 'CantReclamos'])\n",
    "\n",
    "print(\"Media:\", dfEj6['CantReclamos'].mean())\n",
    "print(\"Mediana:\", dfEj6['CantReclamos'].median())\n",
    "print(\"Moda:\", dfEj6['CantReclamos'].mode()[0]) # Elegimos el 0 porque es el único valor que se repite, entonces no habrá más modas"
   ]
  },
  {
   "cell_type": "markdown",
   "metadata": {},
   "source": [
    "### Ejercicio 7"
   ]
  },
  {
   "cell_type": "markdown",
   "metadata": {},
   "source": [
    "Los porcentajes de la remuneración total correspondientes al pago de pluses\n",
    "de una muestra de 12 altos ejecutivos son los siguientes:\n",
    "\n",
    "15,8 17,3 28,4 18,2 15,0 24,7 13,1 10,2 29,3 34,7 16,9 25,3\n",
    "\n",
    "a) Calcule la mediana muestral.\n",
    "\n",
    "b) Calcule la media muestral."
   ]
  },
  {
   "cell_type": "code",
   "execution_count": 44,
   "metadata": {},
   "outputs": [
    {
     "name": "stdout",
     "output_type": "stream",
     "text": [
      "Mediana: 17.75\n",
      "Media: 20.741666666666667\n"
     ]
    }
   ],
   "source": [
    "Ejecutivo = [i+1 for i in range(12)]\n",
    "\n",
    "Remuneracion = [15.8, 17.3, 28.4, 18.2, 15.0, 24.7, 13.1, 10.2, 29.3, 34.7, 16.9, 25.3]\n",
    "\n",
    "Ejecutivo_Remuneracion = zip(Ejecutivo, Remuneracion)\n",
    "\n",
    "dfEj7 = pd.DataFrame(Ejecutivo_Remuneracion, columns=['Ejecutivo', 'Remuneracion'])\n",
    "\n",
    "print(\"Mediana:\", dfEj7['Remuneracion'].median())\n",
    "print(\"Media:\", dfEj7['Remuneracion'].mean())\n"
   ]
  },
  {
   "cell_type": "markdown",
   "metadata": {},
   "source": [
    "### Ejercicio 8"
   ]
  },
  {
   "cell_type": "markdown",
   "metadata": {},
   "source": [
    "Calcule la varianza y la desviación estándar de los siguientes datos\n",
    "muestrales:\n",
    "\n",
    "6, 8, 7, 10, 3, 5, 9, 8"
   ]
  },
  {
   "cell_type": "code",
   "execution_count": 152,
   "metadata": {},
   "outputs": [
    {
     "name": "stdout",
     "output_type": "stream",
     "text": [
      "Desviacion estándar: Datos    2.267787\n",
      "dtype: float64\n",
      "Varianza: Datos    5.142857\n",
      "dtype: float64\n"
     ]
    }
   ],
   "source": [
    "dataEj8 = [6, 8, 7, 10, 3, 5, 9, 8]\n",
    "\n",
    "dfEj8 = pd.DataFrame(dataEj8, columns=[\"Datos\"])\n",
    "\n",
    "print(\"Desviacion estándar:\", dfEj8.std())\n",
    "print(\"Varianza:\", np.square(dfEj8.std()))"
   ]
  },
  {
   "cell_type": "markdown",
   "metadata": {},
   "source": [
    "### Ejercicio 9"
   ]
  },
  {
   "cell_type": "markdown",
   "metadata": {},
   "source": [
    "Calcule el coeficiente de variación de los siguientes datos muestrales:\n",
    "\n",
    "10, 8, 11, 7, 9"
   ]
  },
  {
   "cell_type": "code",
   "execution_count": 141,
   "metadata": {},
   "outputs": [
    {
     "name": "stdout",
     "output_type": "stream",
     "text": [
      "Coeficiente de variacion: 17.568 %\n"
     ]
    }
   ],
   "source": [
    "dataEj9 = [10, 8, 11, 7, 9]\n",
    "dfEj9 = pd.DataFrame(dataEj9, columns=[\"Datos\"])\n",
    "coeficienteVariacion = dfEj9[\"Datos\"].std()/dfEj9[\"Datos\"].mean()\n",
    "\n",
    "print(f\"Coeficiente de variacion: {coeficienteVariacion*100:.3f}\",\"%\")"
   ]
  },
  {
   "cell_type": "markdown",
   "metadata": {},
   "source": [
    "### Ejercicio 10"
   ]
  },
  {
   "cell_type": "markdown",
   "metadata": {},
   "source": [
    "Considere la siguiente muestra de cinco valores y las ponderaciones\n",
    "correspondientes:\n",
    "\\begin{array}{|c|c|}\n",
    "\\hline\n",
    "X_i & w_i \\\\ \\hline\n",
    "4.6 & 8  \\\\ \\hline\n",
    "3.2 & 3  \\\\ \\hline\n",
    "5.4 & 6  \\\\ \\hline\n",
    "2.6 & 2  \\\\ \\hline\n",
    "5.2 & 5  \\\\ \\hline\n",
    "\\end{array}\n",
    "\n",
    "a) Calcule la media aritmética de los xi valores sin ponderaciones.\n",
    "\n",
    "b) Calcule la media ponderada de los xi valores."
   ]
  },
  {
   "cell_type": "code",
   "execution_count": 138,
   "metadata": {},
   "outputs": [
    {
     "name": "stdout",
     "output_type": "stream",
     "text": [
      "Media aritmetica sin ponderacion: 4.160\n",
      "Media aritmetica ponderada: 4.542\n"
     ]
    }
   ],
   "source": [
    "dataEj10 = [4.6, 3.2, 5.4, 2.6, 5,2]\n",
    "wght = [8, 3, 6, 2, 5]\n",
    "data_wght = [dataEj10[i]*wght[i] for i in range(5)]\n",
    "\n",
    "data = zip(dataEj10, wght, data_wght)\n",
    "dfEj10 = pd.DataFrame(data, columns=[\"Datos\", \"Peso\", \"DatosPonderados\"])\n",
    "sum_wght = dfEj10[\"Peso\"].sum()\n",
    "\n",
    "print(f\"Media aritmetica sin ponderacion: {dfEj10[\"Datos\"].mean():.3f}\", )\n",
    "print(f\"Media aritmetica ponderada: {dfEj10[\"DatosPonderados\"].sum()/sum_wght:.3f}\")"
   ]
  },
  {
   "cell_type": "markdown",
   "metadata": {},
   "source": [
    "### Ejercicio 11"
   ]
  },
  {
   "cell_type": "markdown",
   "metadata": {},
   "source": [
    "Considere la siguiente distribución de frecuencias de una muestra de 40\n",
    "observaciones:\n",
    "\n",
    "\\begin{array}{|c|c|}\n",
    "\\hline\n",
    "Clase & Frecuencia \\\\ \\hline\n",
    " 0-4 & 5 \\\\ \\hline\n",
    " 5-9 & 8 \\\\ \\hline\n",
    " 10-14 & 11 \\\\ \\hline\n",
    " 15-19 & 9 \\\\ \\hline\n",
    " 20-24 & 7 \\\\ \\hline\n",
    "\\end{array}\n",
    "\n",
    "a) Calcule la media muestral.\n",
    "\n",
    "b) Calcule la varianza muestral y la desviación estándar muestral."
   ]
  },
  {
   "cell_type": "code",
   "execution_count": 127,
   "metadata": {},
   "outputs": [],
   "source": [
    "dataEj11 = [np.average([0, 4]), np.average([5, 9]), np.average([10, 14]), np.average([15, 19]), np.average([20, 24])]\n",
    "frec = [5, 8, 11, 9, 7]\n",
    "\n",
    "# En vez de una cadena vacía, puedes añadir un valor como promedio de los valores mencionados\n",
    "dataEj11.insert(3, np.average([21, 23, 24, 21]))\n",
    "\n",
    "data = zip(dataEj11, frec)\n",
    "dfEj11 = pd.DataFrame(data, columns=[\"ClasePromedio\",\"Frecuencia\"])\n",
    "\n",
    "#TODO TERMINAR!!!!"
   ]
  },
  {
   "cell_type": "markdown",
   "metadata": {},
   "source": [
    "### Ejercicio 12"
   ]
  },
  {
   "cell_type": "markdown",
   "metadata": {},
   "source": []
  },
  {
   "cell_type": "code",
   "execution_count": 26,
   "metadata": {},
   "outputs": [
    {
     "name": "stdout",
     "output_type": "stream",
     "text": [
      "Renta personal media per cápita ponderada: 32299.52\n"
     ]
    }
   ],
   "source": [
    "data = {\n",
    "    'Estado': ['Alabama', 'Georgia', 'Illinois', 'Indiana', 'Nueva York', 'Pensilvania', 'Tennessee'],\n",
    "    'Población': [4500752, 8684715, 12653544, 6195643, 19190115, 12365455, 5841748],\n",
    "    'Ingreso per cápita': [26338, 29442, 33690, 28783, 36574, 31998, 28455]\n",
    "}\n",
    "\n",
    "df = pd.DataFrame(data)\n",
    "\n",
    "renta_ponderada = np.average(df['Ingreso per cápita'], weights=df['Población'])\n",
    "\n",
    "\n",
    "print(f\"Renta personal media per cápita ponderada: {renta_ponderada:.2f}\")"
   ]
  },
  {
   "cell_type": "markdown",
   "metadata": {},
   "source": [
    "### Ejercicio 13"
   ]
  },
  {
   "cell_type": "markdown",
   "metadata": {},
   "source": []
  },
  {
   "cell_type": "code",
   "execution_count": 27,
   "metadata": {},
   "outputs": [
    {
     "name": "stdout",
     "output_type": "stream",
     "text": [
      "Desviación estándar: 0.97\n"
     ]
    }
   ],
   "source": [
    "data = {\n",
    "    'Número de defectos': [0, 1, 2, 3],\n",
    "    'Número de radios': [12, 15, 17, 6]\n",
    "}\n",
    "\n",
    "df = pd.DataFrame(data)\n",
    "\n",
    "\n",
    "media_ponderada = (df['Número de defectos'] * df['Número de radios']).sum() / df['Número de radios'].sum()\n",
    "varianza_ponderada = (df['Número de radios'] * (df['Número de defectos'] - media_ponderada) ** 2).sum() / df['Número de radios'].sum()\n",
    "desviacion_estandar = varianza_ponderada ** 0.5\n",
    "\n",
    "print(f\"Desviación estándar: {desviacion_estandar:.2f}\")"
   ]
  },
  {
   "cell_type": "markdown",
   "metadata": {},
   "source": [
    "### Ejercicio 14"
   ]
  },
  {
   "cell_type": "markdown",
   "metadata": {},
   "source": [
    " La tabla adjunta muestra la cantidad de tiempo (en horas) dedicada a estudiar para un examen por una muestra aleatoria de 25 estudiantes de una clase numerosa.\n",
    "\n",
    "a) Estime la media muestral del tiempo de estudio."
   ]
  },
  {
   "cell_type": "code",
   "execution_count": 122,
   "metadata": {},
   "outputs": [
    {
     "name": "stdout",
     "output_type": "stream",
     "text": [
      "La media muestral del tiempo de estudio es 9.36 horas por estudiante.\n"
     ]
    }
   ],
   "source": [
    "# Media muestral (x̄).\n",
    "\n",
    "horasDeEstudio = [(0, 4), (4, 8), (8, 12), (12, 16), (16, 20)]\n",
    "estudiantes = [3, 7, 8, 5, 2]\n",
    "\n",
    "data = []\n",
    "for intervalo, frecuencia in zip(horasDeEstudio, estudiantes):\n",
    "    data.extend([(intervalo[0] + intervalo[1]) / 2] * frecuencia)\n",
    "\n",
    "# Convierto la lista en una Series de Pandas y calculo la media muestral\n",
    "serie_datos = pd.Series(data)\n",
    "media_muestral = serie_datos.mean()\n",
    "\n",
    "print(f\"La media muestral del tiempo de estudio es {media_muestral:.2f} horas por estudiante.\")"
   ]
  },
  {
   "cell_type": "markdown",
   "metadata": {},
   "source": [
    "b)  Estime la desviación estándar muestral. "
   ]
  },
  {
   "cell_type": "code",
   "execution_count": 123,
   "metadata": {},
   "outputs": [
    {
     "name": "stdout",
     "output_type": "stream",
     "text": [
      "La desviación estándar muestral del tiempo de estudio es 4.572 horas.\n"
     ]
    }
   ],
   "source": [
    "desviacion_estandar = serie_datos.std(ddof=1)  # ddof=1 para muestral\n",
    "\n",
    "print(f\"La desviación estándar muestral del tiempo de estudio es {desviacion_estandar:.3f} horas.\")"
   ]
  },
  {
   "cell_type": "markdown",
   "metadata": {},
   "source": [
    "### Ejercicio 15"
   ]
  },
  {
   "cell_type": "markdown",
   "metadata": {},
   "source": [
    "A continuación, se presenta una muestra aleatoria de siete pares (x, y) de\n",
    "puntos de datos:\n",
    "(1, 5) (3, 7) (4, 6) (3, 6) (5, 7) (5, 8)\n",
    "\n",
    "a) Calcule la covarianza.\n",
    "\n",
    "b) Calcule el coeficiente de correlación."
   ]
  },
  {
   "cell_type": "code",
   "execution_count": 124,
   "metadata": {},
   "outputs": [
    {
     "name": "stdout",
     "output_type": "stream",
     "text": [
      "Covarianza muestral: 1.300\n",
      "Coeficiente de correlación: 0.817\n"
     ]
    }
   ],
   "source": [
    "datos = [(1, 5), (3, 7), (4, 6), (3, 6), (5, 7), (5, 8)]\n",
    "\n",
    "df = pd.DataFrame(datos, columns=['X', 'Y'])\n",
    "\n",
    "covarianza = df['X'].cov(df['Y'])\n",
    "print(f\"Covarianza muestral: {covarianza:.3f}\")\n",
    "\n",
    "correlacion = df['X'].corr(df['Y'])\n",
    "print(f\"Coeficiente de correlación: {correlacion:.3f}\")"
   ]
  },
  {
   "cell_type": "markdown",
   "metadata": {},
   "source": [
    "### Ejercicio 16"
   ]
  },
  {
   "cell_type": "markdown",
   "metadata": {},
   "source": [
    "Un hospital tiene interés en averiguar la eficacia de un nuevo medicamento para reducir el tiempo necesario para recuperarse totalmente de una operación de rodilla. La recuperación total se mide por medio de una serie de tests de fuerza que comparan la rodilla operada con la rodilla sin operar. El medicamento se administró en dosis diferentes a 18 pacientes durante un periodo de 6 meses. Los datos (x, y) siguientes indican el número de unidades de medicamento, X, y los días necesarios para la recuperación total Y de cada paciente:\n",
    "\n",
    "(5, 53) (4, 56) (9, 54) (14, 56) (21, 65) (7, 53) (7, 56) (9, 59) (14, 48) (11, 66)\n",
    "(21,57) (17, 49) (9, 53) (21, 52) (4, 56) (9, 46) (14, 66) (13, 49)\n",
    "\n",
    "a) Calcule la covarianza.\n",
    "\n",
    "b) Calcule el coeficiente de correlación."
   ]
  },
  {
   "cell_type": "code",
   "execution_count": 125,
   "metadata": {},
   "outputs": [
    {
     "name": "stdout",
     "output_type": "stream",
     "text": [
      "Covarianza muestral: 4.268\n",
      "Coeficiente de correlación: 0.128\n"
     ]
    }
   ],
   "source": [
    "datos = [(5, 53), (4, 56), (9, 54), (14, 56), (21, 65), (7, 53), (7, 56), (9, 59), (14, 48), (11, 66),\n",
    "         (21, 57), (17, 49), (9, 53), (21, 52), (4, 56), \n",
    "         (9, 46), (14, 66), (13, 49)]\n",
    "\n",
    "\n",
    "df = pd.DataFrame(datos, columns=['X', 'Y'])\n",
    "\n",
    "covarianza = df['X'].cov(df['Y'])\n",
    "print(f\"Covarianza muestral: {covarianza:.3f}\")\n",
    "\n",
    "correlacion = df['X'].corr(df['Y'])\n",
    "print(f\"Coeficiente de correlación: {correlacion:.3f}\")"
   ]
  },
  {
   "cell_type": "markdown",
   "metadata": {},
   "source": [
    "c) Analice brevemente la relación entre el número de unidades de\n",
    "medicamento y el tiempo de recuperación. ¿Qué dosis deberíamos\n",
    "recomendar basándonos en este análisis inicial?"
   ]
  },
  {
   "cell_type": "markdown",
   "metadata": {},
   "source": [
    "> El análisis de la covarianza y el coeficiente de correlación sugiere una relación muy débil entre el número de unidades de medicamento administradas y el tiempo de recuperación. La covarianza positiva de 4.031 indica una ligera tendencia a que, a medida que aumenta la dosis, aumente también el tiempo de recuperación, pero el coeficiente de correlación de 0.128 confirma que esta relación es casi nula. Esto sugiere que el número de unidades de medicamento tiene un impacto mínimo en la variación del tiempo de recuperación.\n",
    ">\n",
    ">Basados en estos resultados, no es posible establecer una relación clara entre la dosis del medicamento y el tiempo de recuperación. "
   ]
  },
  {
   "cell_type": "markdown",
   "metadata": {},
   "source": [
    "### Ejercicio 17"
   ]
  },
  {
   "cell_type": "markdown",
   "metadata": {},
   "source": [
    "Acme Delivery ofrece tres tarifas distintas de envío de paquetes de menos de 5 libras de Maine a la costa oeste: ordinario, 3 $; urgente, 5 $, y superurgente, 10$. Para comprobar la calidad de estos servicios, un importante minorista de venta por correo envió 15 paquetes de Maine a Tacoma (Washington) en momentos elegidos aleatoriamente. Los paquetes fueron enviados en grupos de tres por los tres servicios al mismo tiempo para reducir las diferencias resultantes del día del envío. Los datos siguientes muestran el coste de envío,\n",
    "X, y el número de días, Y, en pares (x, y):\n",
    "\n",
    "(3,7) (3, 6) (3, 5) (5,5) (10,2) (3,9) (5,6) (10,5) (5, 6) (10, 1) (3, 10) (5, 7) (10, 4)\n",
    "(5,6) (10, 4)\n",
    "\n",
    "a) Describa los datos numéricamente (covarianza y correlación)."
   ]
  },
  {
   "cell_type": "code",
   "execution_count": 126,
   "metadata": {},
   "outputs": [
    {
     "name": "stdout",
     "output_type": "stream",
     "text": [
      "Covarianza muestral: -5.500\n",
      "Coeficiente de correlación: -0.776\n"
     ]
    }
   ],
   "source": [
    "datos = [(3,7), (3, 6), (3, 5), (5,5), (10,2), (3,9), (5,6), (10,5), (5, 6), (10, 1), (3, 10), (5, 7), (10, 4),\n",
    "(5,6),(10, 4)]\n",
    "df = pd.DataFrame(datos, columns=['X', 'Y'])\n",
    "\n",
    "covarianza = df['X'].cov(df['Y'])\n",
    "print(f\"Covarianza muestral: {covarianza:.3f}\")\n",
    "\n",
    "correlacion = df['X'].corr(df['Y'])\n",
    "print(f\"Coeficiente de correlación: {correlacion:.3f}\")"
   ]
  },
  {
   "cell_type": "markdown",
   "metadata": {},
   "source": [
    "> En este caso la covarianza nos dio negativa, lo que nos indicaría una relación inversa entre las variables X e Y, siendo que a medida que aumenta el costo del envío (X), el número de días para la entrega (Y) tiende a disminuir, lo cual es coherente. Este dato nos da una idea del comportamiento de las variables pero no el grado de variación (la proporción).\n",
    ">\n",
    "> Con el dato de el coeficiente de correlación de -0.776, podemos confirmar que existe una correlación negativa fuerte, dado que es muy cercana a -1. Esto significa que a medida que el costo del envío aumenta (de $3 a $10), el número de días para la entrega tiende a disminuir de manera significativa.\n"
   ]
  },
  {
   "cell_type": "markdown",
   "metadata": {},
   "source": [
    "b) Analice el valor de los servicios de precio más alto desde el punto de vista\n",
    "del envío más rápido."
   ]
  },
  {
   "cell_type": "markdown",
   "metadata": {},
   "source": [
    ">Elegir un servicio de envío premium no debe hacerse de manera apresurada. Los servicios más costosos pueden ofrecer ventajas como manejo prioritario, transporte más rápido y un seguimiento, lo que puede ser beneficioso para envíos urgentes o de alto valor, pero no siempre es indispensable pagar más para obtener una entrega rápida. Es importante considerar la urgencia del envío, su valor y las alternativas disponibles. Comparar distintas opciones permite tomar una decisión bien justificada, analizando si el costo adicional realmente justifica el beneficio de una entrega más rápida."
   ]
  },
  {
   "cell_type": "markdown",
   "metadata": {},
   "source": [
    "### Ejercicio 19"
   ]
  },
  {
   "cell_type": "markdown",
   "metadata": {},
   "source": [
    "El número de computadores vendidos al día en una tienda viene definido por\n",
    "la siguiente distribución de probabilidad:\n",
    "\\begin{array}{|c|c|c|c|c|c|c|c|}\n",
    "\\hline\n",
    "X    & 0    & 1    & 2    & 3    & 4    & 5    & 6    \\\\ \\hline\n",
    "P(x) & 0.05 & 0.10 & 0.20 & 0.20 & 0.20 & 0.15 & 0.10 \\\\ \\hline\n",
    "\\end{array}"
   ]
  },
  {
   "cell_type": "markdown",
   "metadata": {},
   "source": [
    "a) ¿P(3 ≤ x ≤ 6)?:\n",
    "\n",
    "P(3 ≤ x ≤ 6) = P(x = 3) + P(x = 4) + P(x = 5) + P(x = 6) = 0.20 + 0.20 + 0.15 + 0.10 = 0.65\n",
    "\n",
    "b) ¿P(x > 3)?:\n",
    "\n",
    "P(x > 3) = P(x = 4) + P(x = 5) + P(x = 6) = 0.20 + 0.15 + 0.10 = 0.45\n",
    "\n",
    "c) ¿P(x ≤ 4)?:\n",
    "\n",
    "P(x ≤ 4) = P(x = 0) + P(x = 1) + P(x = 2) + P(x = 3) + P(x = 4) = 0.05 + 0.10 + 0.20 + 0.20 + 0.20 = 0.75\n",
    "\n",
    "d) ¿P(2 < x ≤ 5)?:\n",
    "\n",
    "P(2 < x ≤ 5) = P(x = 3) + P(x = 4) + P(x = 5) = 0.20 + 0.20 + 0.15 = 0.55 \n"
   ]
  },
  {
   "cell_type": "markdown",
   "metadata": {},
   "source": [
    "### Ejercicio 20"
   ]
  },
  {
   "cell_type": "markdown",
   "metadata": {},
   "source": [
    "[Letra]"
   ]
  },
  {
   "cell_type": "markdown",
   "metadata": {},
   "source": [
    "a) ¿Cuál es la probabilidad de que lleguen al menos 2 personas en una hora? "
   ]
  },
  {
   "cell_type": "markdown",
   "metadata": {},
   "source": [
    "b) ¿Cuál es la probabilidad de que lleguen más de 3 personas en una hora? "
   ]
  },
  {
   "cell_type": "markdown",
   "metadata": {},
   "source": [
    "c) ¿Cuál es la probabilidad de que lleguen como máximo 4 personas en una hora?"
   ]
  },
  {
   "cell_type": "markdown",
   "metadata": {},
   "source": [
    "d) ¿Cuál es la probabilidad de que lleguen entre 1 y 3 personas en una hora?"
   ]
  },
  {
   "cell_type": "code",
   "execution_count": 25,
   "metadata": {},
   "outputs": [
    {
     "name": "stdout",
     "output_type": "stream",
     "text": [
      "a) La probabilidad de que lleguen al menos 2 personas es: 0.75\n",
      "b) La probabilidad de que lleguen más de 3 personas es: 0.30000000000000004\n",
      "c) La probabilidad de que lleguen como máximo 4 personas es: 0.9\n",
      "d) La probabilidad de que lleguen entre 1 y 3 personas es: 0.6\n"
     ]
    }
   ],
   "source": [
    "data = {\n",
    "    'Número de personas': [0, 1, 2, 3, 4, 5],\n",
    "    'Probabilidad': [0.10, 0.15, 0.20, 0.25, 0.20, 0.10]\n",
    "}\n",
    "\n",
    "\n",
    "df = pd.DataFrame(data)\n",
    "\n",
    "prob_al_menos_2 = 1 - df[df['Número de personas'] < 2]['Probabilidad'].sum()\n",
    "prob_mas_de_3 = df[df['Número de personas'] > 3]['Probabilidad'].sum()\n",
    "prob_max_4 = 1 - df[df['Número de personas'] > 4]['Probabilidad'].sum()\n",
    "prob_entre_1_y_3 = df[(df['Número de personas'] >= 1) & (df['Número de personas'] <= 3)]['Probabilidad'].sum()\n",
    "\n",
    "print(f\"a) La probabilidad de que lleguen al menos 2 personas es: {prob_al_menos_2}\")\n",
    "print(f\"b) La probabilidad de que lleguen más de 3 personas es: {prob_mas_de_3}\")\n",
    "print(f\"c) La probabilidad de que lleguen como máximo 4 personas es: {prob_max_4}\")\n",
    "print(f\"d) La probabilidad de que lleguen entre 1 y 3 personas es: {prob_entre_1_y_3}\")"
   ]
  },
  {
   "cell_type": "markdown",
   "metadata": {},
   "source": [
    "### Ejercicio 21"
   ]
  },
  {
   "cell_type": "markdown",
   "metadata": {},
   "source": [
    "[Letra]"
   ]
  },
  {
   "cell_type": "markdown",
   "metadata": {},
   "source": [
    "a) Graficar la función de probabilidad. "
   ]
  },
  {
   "cell_type": "code",
   "execution_count": 19,
   "metadata": {},
   "outputs": [
    {
     "data": {
      "image/png": "[encoded data removed]",
      "text/plain": [
       "<Figure size 800x600 with 1 Axes>"
      ]
     },
     "metadata": {},
     "output_type": "display_data"
    }
   ],
   "source": [
    "data = {\n",
    "    'Número de devoluciones': [0, 1, 2, 3, 4],\n",
    "    'Proporción': [0.28, 0.36, 0.23, 0.09, 0.04]\n",
    "}\n",
    "\n",
    "df = pd.DataFrame(data)\n",
    "plt.figure(figsize=(8, 6))\n",
    "sns.barplot(x='Número de devoluciones', y='Proporción', data=df, palette='Blues_d')\n",
    "\n",
    "plt.title('Función de probabilidad del número de devoluciones de automóviles', fontsize=14)\n",
    "plt.xlabel('Número de devoluciones', fontsize=12)\n",
    "plt.ylabel('Proporción', fontsize=12)\n",
    "\n",
    "plt.show()\n"
   ]
  },
  {
   "cell_type": "markdown",
   "metadata": {},
   "source": [
    "b) Calcular y graficar la función de probabilidad acumulada. "
   ]
  },
  {
   "cell_type": "code",
   "execution_count": 24,
   "metadata": {},
   "outputs": [
    {
     "data": {
      "image/png": "[encoded data removed]",
      "text/plain": [
       "<Figure size 800x600 with 1 Axes>"
      ]
     },
     "metadata": {},
     "output_type": "display_data"
    }
   ],
   "source": [
    "df['Proporción acumulada'] = np.cumsum(df['Proporción'])\n",
    "\n",
    "plt.figure(figsize=(8, 6))\n",
    "sns.lineplot(x='Número de devoluciones', y='Proporción acumulada', data=df, marker='o', color='skyblue')\n",
    "\n",
    "plt.fill_between(df['Número de devoluciones'], df['Proporción acumulada'], alpha=0.3, color='skyblue')\n",
    "\n",
    "plt.title('Distribución acumulada de devoluciones de automóviles nuevos', fontsize=14)\n",
    "plt.xlabel('Número de devoluciones', fontsize=12)\n",
    "plt.ylabel('Proporción acumulada', fontsize=12)\n",
    "\n",
    "plt.show()"
   ]
  },
  {
   "cell_type": "markdown",
   "metadata": {},
   "source": [
    "c) Halle la esperanza del número de devoluciones de un automóvil para que se corrijan los defectos durante el periodo de garantía. "
   ]
  },
  {
   "cell_type": "code",
   "execution_count": 21,
   "metadata": {},
   "outputs": [
    {
     "name": "stdout",
     "output_type": "stream",
     "text": [
      "La esperanza (media esperada) es: 1.25\n"
     ]
    }
   ],
   "source": [
    "esperanza = np.sum(df['Número de devoluciones'] * df['Proporción'])\n",
    "\n",
    "print(f'La esperanza (media esperada) es: {esperanza:.2f}')"
   ]
  },
  {
   "cell_type": "markdown",
   "metadata": {},
   "source": [
    "d) Halle la varianza del número de devoluciones de un automóvil para que se corrijan los defectos durante el periodo de garantía."
   ]
  },
  {
   "cell_type": "code",
   "execution_count": 22,
   "metadata": {},
   "outputs": [
    {
     "name": "stdout",
     "output_type": "stream",
     "text": [
      "La varianza es: 1.1675\n"
     ]
    }
   ],
   "source": [
    "varianza = np.sum((df['Número de devoluciones'] - esperanza) ** 2 * df['Proporción'])\n",
    "\n",
    "print(f'La varianza es: {varianza:.4f}')"
   ]
  },
  {
   "cell_type": "markdown",
   "metadata": {},
   "source": [
    "### Ejercicio 22"
   ]
  },
  {
   "cell_type": "markdown",
   "metadata": {},
   "source": [
    "Una empresa está especializada en la instalación y el mantenimiento de calefacciones centrales. Antes de que empiece el invierno, las llamadas al servicio de mantenimiento pueden dar como resultado el pedido de una nueva caldera. La tabla adjunta muestra las probabilidades estimadas del número de pedidos de calderas nuevas generados de esta forma en las 2 últimas semanas de setiembre."
   ]
  },
  {
   "cell_type": "markdown",
   "metadata": {},
   "source": [
    "a) Graficar la función de probabilidad. "
   ]
  },
  {
   "cell_type": "code",
   "execution_count": 11,
   "metadata": {},
   "outputs": [
    {
     "data": {
      "image/png": "[encoded data removed]",
      "text/plain": [
       "<Figure size 800x600 with 1 Axes>"
      ]
     },
     "metadata": {},
     "output_type": "display_data"
    }
   ],
   "source": [
    "import seaborn as sns\n",
    "\n",
    "dataEj22 = {'Número de devoluciones': [0, 1, 2, 3, 4, 5],\n",
    "        'Proporción': [0.10, 0.14, 0.26, 0.28, 0.15, 0.07]}\n",
    "df = pd.DataFrame(dataEj22)\n",
    "\n",
    "# Graficar los datos\n",
    "plt.figure(figsize=(8, 6))\n",
    "sns.barplot(x='Número de devoluciones', y='Proporción', data=df, palette='Blues_d')\n",
    "\n",
    "# Título y etiquetas\n",
    "plt.title('Probabilidad del número de pedidos de calderas nuevas', fontsize=14)\n",
    "plt.xlabel('Número de devoluciones', fontsize=12)\n",
    "plt.ylabel('Proporción', fontsize=12)\n",
    "\n",
    "# Mostrar el gráfico\n",
    "plt.show()"
   ]
  },
  {
   "cell_type": "markdown",
   "metadata": {},
   "source": [
    "b) Calcular y graficar la función de probabilidad acumulada. "
   ]
  },
  {
   "cell_type": "code",
   "execution_count": 14,
   "metadata": {},
   "outputs": [
    {
     "data": {
      "image/png": "[encoded data removed]",
      "text/plain": [
       "<Figure size 800x600 with 1 Axes>"
      ]
     },
     "metadata": {},
     "output_type": "display_data"
    }
   ],
   "source": [
    "import seaborn as sns\n",
    "\n",
    "dataEj22b = {\n",
    "    'Número de pedidos': [0, 1, 2, 3, 4, 5],\n",
    "    'Proporción': [0.10, 0.14, 0.26, 0.28, 0.15, 0.07]\n",
    "}\n",
    "\n",
    "df = pd.DataFrame(dataEj22b)\n",
    "df['Proporción acumulada'] = df['Proporción'].cumsum()\n",
    "plt.figure(figsize=(8, 6))\n",
    "sns.lineplot(x='Número de pedidos', y='Proporción acumulada', data=df, marker='o', color='skyblue')\n",
    "plt.fill_between(df['Número de pedidos'], df['Proporción acumulada'], color='skyblue', alpha=0.4)\n",
    "\n",
    "plt.title('Distribución acumulada del número de pedidos de calderas nuevas', fontsize=14)\n",
    "plt.xlabel('Número de pedidos', fontsize=12)\n",
    "plt.ylabel('Proporción acumulada', fontsize=12)\n",
    "\n",
    "plt.show()"
   ]
  },
  {
   "cell_type": "markdown",
   "metadata": {},
   "source": [
    "c) Halle la probabilidad de que se hagan al menos tres pedidos en este periodo. "
   ]
  },
  {
   "cell_type": "markdown",
   "metadata": {},
   "source": [
    "d) Halle la media del número de pedidos de una nueva caldera en este periodo de 2 semanas. "
   ]
  },
  {
   "cell_type": "markdown",
   "metadata": {},
   "source": [
    "e) Halle la desviación típica del número de pedidos de una nueva caldera en este periodo de 2 semanas."
   ]
  },
  {
   "cell_type": "code",
   "execution_count": 128,
   "metadata": {},
   "outputs": [
    {
     "name": "stdout",
     "output_type": "stream",
     "text": [
      "c) La probabilidad de que se hagan al menos 3 pedidos es: 0.5\n",
      "d) La media del número de pedidos en 2 semanas es: 2.45\n",
      "e) La desviación típica del número de pedidos es: 1.359\n"
     ]
    }
   ],
   "source": [
    "data = {\n",
    "    'Número de pedidos': [0, 1, 2, 3, 4, 5],\n",
    "    'Proporción': [0.10, 0.14, 0.26, 0.28, 0.15, 0.07]\n",
    "}\n",
    "\n",
    "df = pd.DataFrame(data)\n",
    "\n",
    "# c) Calcular la probabilidad de que se hagan al menos 3 pedidos\n",
    "# P(X >= 3) = P(3) + P(4) + P(5)\n",
    "prob_at_least_3 = df[df['Número de pedidos'] >= 3]['Proporción'].sum()\n",
    "\n",
    "# d) Calcular la media (esperanza matemática)\n",
    "media_pedidos = np.sum(df['Número de pedidos'] * df['Proporción'])\n",
    "\n",
    "# e) Calcular la desviación típica\n",
    "# Primero, calcular la varianza: sum((x - media)^2 * P(x))\n",
    "varianza_pedidos = np.sum((df['Número de pedidos'] - media_pedidos) ** 2 * df['Proporción'])\n",
    "desviacion_t_pedidos = np.sqrt(varianza_pedidos)\n",
    "\n",
    "# Mostrar los resultados\n",
    "print(f\"c) La probabilidad de que se hagan al menos 3 pedidos es: {prob_at_least_3}\")\n",
    "print(f\"d) La media del número de pedidos en 2 semanas es: {media_pedidos}\")\n",
    "print(f\"e) La desviación típica del número de pedidos es: {desviacion_t_pedidos:.3f}\")\n"
   ]
  },
  {
   "cell_type": "markdown",
   "metadata": {},
   "source": [
    "### Ejercicio 23"
   ]
  },
  {
   "cell_type": "markdown",
   "metadata": {},
   "source": [
    "Un profesor tiene un numeroso grupo de alumnos y ha previsto un examen a las 7 de la tarde en un aula diferente. Estime en la tabla las probabilidades del número de estudiantes que lo llamarán a casa una hora antes del examen preguntándole en qué aula se realizará.\n",
    "Halle la media y la desviación típica del número de llamadas."
   ]
  },
  {
   "cell_type": "code",
   "execution_count": 132,
   "metadata": {},
   "outputs": [
    {
     "name": "stdout",
     "output_type": "stream",
     "text": [
      "La media del número de llamadas es: 2.62\n",
      "La desviación típica del número de llamadas es 1.475\n"
     ]
    }
   ],
   "source": [
    "dataEj23 = {\n",
    "    'Numero_Llamadas': [0, 1, 2, 3, 4, 5],\n",
    "    'Probabilidad': [0.10, 0.15, 0.19, 0.26, 0.19, 0.11]\n",
    "}\n",
    "\n",
    "df = pd.DataFrame(dataEj23)\n",
    "\n",
    "media_llamadas = np.sum(df['Numero_Llamadas'] * df['Probabilidad'])\n",
    "\n",
    "varianza_llamadas = np.sum((df['Numero_Llamadas'] - media_llamadas) ** 2 * df['Probabilidad'])\n",
    "\n",
    "desviacion_tipica_llamadas = np.sqrt(varianza_llamadas)\n",
    "\n",
    "print(\"La media del número de llamadas es:\", media_llamadas)\n",
    "print(f\"La desviación típica del número de llamadas es {desviacion_tipica_llamadas:.3f}\")\n"
   ]
  },
  {
   "cell_type": "markdown",
   "metadata": {},
   "source": [
    "### Ejercicio 24"
   ]
  },
  {
   "cell_type": "markdown",
   "metadata": {},
   "source": [
    "Un equipo de reparación es responsable de un tramo de un oleoducto de 2 kilómetros de largo.\n",
    "La distancia (en kilómetros) a la que surge cualquier grieta puede representarse por medio de una variable aleatoria distribuida uniformemente, con una función de densidad de probabilidad: \n",
    "f(x) = 0,5 \n",
    "Halle la función de distribución acumulada y la probabilidad de que surja cualquier grieta dada entre 0,5 kilómetros y 1,5 en este tramo del oleoducto.\n"
   ]
  },
  {
   "cell_type": "code",
   "execution_count": 7,
   "metadata": {},
   "outputs": [
    {
     "name": "stdout",
     "output_type": "stream",
     "text": [
      "La probabilidad de que surja una grieta entre 0.5 km y 1.5 km es: 0.5\n"
     ]
    }
   ],
   "source": [
    "def F(x):\n",
    "    if x < 0:\n",
    "        return 0\n",
    "    elif 0 <= x <= 2:\n",
    "        return 0.5 * x\n",
    "    else:\n",
    "        return 1\n",
    "\n",
    "x1 = 0.5\n",
    "x2 = 1.5\n",
    "probabilidad = F(x2) - F(x1)\n",
    "\n",
    "print(f'La probabilidad de que surja una grieta entre {x1} km y {x2} km es: {probabilidad}')"
   ]
  },
  {
   "cell_type": "markdown",
   "metadata": {},
   "source": [
    "### Ejercicio 25"
   ]
  },
  {
   "cell_type": "markdown",
   "metadata": {},
   "source": [
    "[Letra]"
   ]
  },
  {
   "cell_type": "markdown",
   "metadata": {},
   "source": [
    "a)  Grafique la función de densidad de probabilidad. "
   ]
  },
  {
   "cell_type": "code",
   "execution_count": null,
   "metadata": {},
   "outputs": [
    {
     "data": {
      "image/png": "[encoded data removed]",
      "text/plain": [
       "<Figure size 640x480 with 1 Axes>"
      ]
     },
     "metadata": {},
     "output_type": "display_data"
    }
   ],
   "source": [
    "def f(x):\n",
    "    return 0.25 * (0 < x < 4)\n",
    "\n",
    "x = np.linspace(-1, 5, 1000)\n",
    "y = [f(i) for i in x]\n",
    "\n",
    "plt.plot(x, y, label='f(x)', color='blue')\n",
    "plt.fill_between(x, y, color='skyblue', alpha=0.5)\n",
    "plt.xlabel('x')\n",
    "plt.ylabel('f(x)')\n",
    "plt.title('Función de Densidad de Probabilidad')\n",
    "plt.axhline(0, color='black', lw=0.5, ls='--')\n",
    "plt.axvline(0, color='black', lw=0.5, ls='--')\n",
    "plt.xlim(-1, 5)\n",
    "plt.ylim(-0.1, 0.3)\n",
    "plt.legend()\n",
    "plt.grid()\n",
    "\n",
    "plt.show()"
   ]
  },
  {
   "cell_type": "markdown",
   "metadata": {},
   "source": [
    "b) Hallar y graficar la función de distribución acumulada. "
   ]
  },
  {
   "cell_type": "code",
   "execution_count": null,
   "metadata": {},
   "outputs": [
    {
     "data": {
      "image/png": "[encoded data removed]",
      "text/plain": [
       "<Figure size 640x480 with 1 Axes>"
      ]
     },
     "metadata": {},
     "output_type": "display_data"
    }
   ],
   "source": [
    "def F(x):\n",
    "    if x < 0:\n",
    "        return 0\n",
    "    elif 0 <= x < 4:\n",
    "        return 0.25*x\n",
    "    else:\n",
    "        return 1\n",
    "\n",
    "x = np.linspace(-1, 5, 1000)\n",
    "y = [F(i) for i in x]\n",
    "\n",
    "plt.plot(x, y, label='F(x)', color='orange') \n",
    "plt.fill_between(x, y, color='lightcoral', alpha=0.5)\n",
    "plt.xlabel('x')\n",
    "plt.ylabel('F(x)')\n",
    "plt.title('Función de Distribución Acumulada')\n",
    "plt.axhline(0, color='black',lw=0.5, ls='--')\n",
    "plt.axvline(0, color='black', lw=0.5, ls= '--')\n",
    "plt.xlim(-1, 5)\n",
    "plt.ylim(-0.1, 1.1)\n",
    "plt.legend()\n",
    "plt.grid()\n",
    "\n",
    "plt. show ()"
   ]
  },
  {
   "cell_type": "markdown",
   "metadata": {},
   "source": [
    "c) Hallar la probabilidad de que se produzca una emergencia como máximo a un kilómetro del punto situado más al norte de este tramo del río. "
   ]
  },
  {
   "cell_type": "code",
   "execution_count": 6,
   "metadata": {},
   "outputs": [
    {
     "name": "stdout",
     "output_type": "stream",
     "text": [
      "La probabilidad de que la emergencia ocurra a lo sumo a 1 km es: 0.25\n"
     ]
    }
   ],
   "source": [
    "def F(x):\n",
    "    if x < 0:\n",
    "        return 0\n",
    "    elif 0 <= x < 4:\n",
    "        return 0.25 * x\n",
    "    else:\n",
    "        return 1\n",
    "\n",
    "x = 1\n",
    "probabilidad = F(x)\n",
    "\n",
    "print(f'La probabilidad de que la emergencia ocurra a lo sumo a {x} km es: {probabilidad}')"
   ]
  },
  {
   "cell_type": "markdown",
   "metadata": {},
   "source": [
    "d) La base del equipo de salvamento se encuentra en el punto medio de este tramo del río. Halle la probabilidad de que se produzca una emergencia a más de 1,5 kilómetros de esta base."
   ]
  },
  {
   "cell_type": "code",
   "execution_count": 133,
   "metadata": {},
   "outputs": [
    {
     "name": "stdout",
     "output_type": "stream",
     "text": [
      "P(X < 0.5): 0.125\n",
      "P(X > 3.5): 0.125\n",
      "Probabilidad total (P(X < 0.5) + P(X > 3.5)): 0.25\n"
     ]
    }
   ],
   "source": [
    "a, b = 0, 4  \n",
    "\n",
    "def f(x):\n",
    "    return 0.25 if a < x < b else 0\n",
    "\n",
    "def F(x):\n",
    "    if x <= a:\n",
    "        return 0\n",
    "    elif x >= b:\n",
    "        return 1\n",
    "    else:\n",
    "        return 0.25 * x\n",
    "\n",
    "P_X_less_0_5 = F(0.5)  \n",
    "P_X_greater_3_5 = 1 - F(3.5)  \n",
    "\n",
    "print(f\"P(X < 0.5): {P_X_less_0_5}\")\n",
    "print(f\"P(X > 3.5): {P_X_greater_3_5}\")\n",
    "print(f\"Probabilidad total (P(X < 0.5) + P(X > 3.5)): {P_X_less_0_5 + P_X_greater_3_5}\")"
   ]
  }
 ],
 "metadata": {
  "kernelspec": {
   "display_name": "Python 3",
   "language": "python",
   "name": "python3"
  },
  "language_info": {
   "codemirror_mode": {
    "name": "ipython",
    "version": 3
   },
   "file_extension": ".py",
   "mimetype": "text/x-python",
   "name": "python",
   "nbconvert_exporter": "python",
   "pygments_lexer": "ipython3",
   "version": "3.12.5"
  }
 },
 "nbformat": 4,
 "nbformat_minor": 2
}
