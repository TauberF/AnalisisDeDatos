{
 "cells": [
  {
   "cell_type": "code",
   "execution_count": 41,
   "metadata": {},
   "outputs": [],
   "source": [
    "import pandas as pd\n",
    "import numpy as np"
   ]
  },
  {
   "cell_type": "markdown",
   "metadata": {},
   "source": [
    "### Ej 5"
   ]
  },
  {
   "cell_type": "code",
   "execution_count": 42,
   "metadata": {},
   "outputs": [
    {
     "name": "stdout",
     "output_type": "stream",
     "text": [
      "Media 66.0\n",
      "Mediana 75.0\n",
      "Moda: No hay moda porque todos los valores ocurren exactamente una vez\n"
     ]
    }
   ],
   "source": [
    "#EJERCICIO 5\n",
    "\n",
    "dataEj5 = [['Sem1', 20], ['Sem2', 73], ['Sem3', 75], ['Sem4', 80], ['Sem4', 82]]\n",
    "\n",
    "dfEj5 = pd.DataFrame(dataEj5, columns=['Semana', 'CantProgs'])\n",
    "\n",
    "print(\"Media\", dfEj5['CantProgs'].mean())\n",
    "print(\"Mediana\", dfEj5['CantProgs'].median())\n",
    "print(\"Moda: No hay moda porque todos los valores ocurren exactamente una vez\")\n"
   ]
  },
  {
   "cell_type": "markdown",
   "metadata": {},
   "source": [
    "### Ej 6"
   ]
  },
  {
   "cell_type": "code",
   "execution_count": 43,
   "metadata": {},
   "outputs": [
    {
     "name": "stdout",
     "output_type": "stream",
     "text": [
      "Media: 12.0\n",
      "Mediana: 13.0\n",
      "Moda: 8\n"
     ]
    }
   ],
   "source": [
    "#EJERCICIO 6\n",
    "\n",
    "dataEj6 = [['Sem1', 13], ['Sem2', 15], ['Sem3', 8], ['Sem4', 16], ['Sem4', 8]]\n",
    "\n",
    "dfEj6 = pd.DataFrame(dataEj6, columns=['Semana', 'CantReclamos'])\n",
    "\n",
    "print(\"Media:\", dfEj6['CantReclamos'].mean())\n",
    "print(\"Mediana:\", dfEj6['CantReclamos'].median())\n",
    "print(\"Moda:\", dfEj6['CantReclamos'].mode()[0]) # Elegimos el 0 porque es el único valor que se repite, entonces no habrá más modas"
   ]
  },
  {
   "cell_type": "markdown",
   "metadata": {},
   "source": [
    "### Ej 7"
   ]
  },
  {
   "cell_type": "code",
   "execution_count": 44,
   "metadata": {},
   "outputs": [
    {
     "name": "stdout",
     "output_type": "stream",
     "text": [
      "Mediana: 17.75\n",
      "Media: 20.741666666666667\n"
     ]
    }
   ],
   "source": [
    "Ejecutivo = [i+1 for i in range(12)]\n",
    "\n",
    "Remuneracion = [15.8, 17.3, 28.4, 18.2, 15.0, 24.7, 13.1, 10.2, 29.3, 34.7, 16.9, 25.3]\n",
    "\n",
    "Ejecutivo_Remuneracion = zip(Ejecutivo, Remuneracion)\n",
    "\n",
    "dfEj7 = pd.DataFrame(Ejecutivo_Remuneracion, columns=['Ejecutivo', 'Remuneracion'])\n",
    "\n",
    "print(\"Mediana:\", dfEj7['Remuneracion'].median())\n",
    "print(\"Media:\", dfEj7['Remuneracion'].mean())\n"
   ]
  },
  {
   "cell_type": "markdown",
   "metadata": {},
   "source": [
    "### Ej 8"
   ]
  },
  {
   "cell_type": "code",
   "execution_count": 46,
   "metadata": {},
   "outputs": [
    {
     "name": "stdout",
     "output_type": "stream",
     "text": [
      "Desviacion estándar: Datos    2.267787\n",
      "dtype: float64\n",
      "Varianza: Datos    5.142857\n",
      "dtype: float64\n"
     ]
    }
   ],
   "source": [
    "dataEj8 = [6, 8, 7, 10, 3, 5, 9, 8]\n",
    "\n",
    "dfEj8 = pd.DataFrame(dataEj8, columns=[\"Datos\"])\n",
    "\n",
    "print(\"Desviacion estándar:\", dfEj8.std())\n",
    "print(\"Varianza:\", np.square(dfEj8.std()))"
   ]
  },
  {
   "cell_type": "markdown",
   "metadata": {},
   "source": [
    "### Ej 9"
   ]
  },
  {
   "cell_type": "code",
   "execution_count": 69,
   "metadata": {},
   "outputs": [
    {
     "name": "stdout",
     "output_type": "stream",
     "text": [
      "Coeficiente de variacion: 17.568209223157663 %\n"
     ]
    }
   ],
   "source": [
    "dataEj9 = [10, 8, 11, 7, 9]\n",
    "dfEj9 = pd.DataFrame(dataEj9, columns=[\"Datos\"])\n",
    "coeficienteVariacion = dfEj9[\"Datos\"].std()/dfEj9[\"Datos\"].mean()\n",
    "\n",
    "print(\"Coeficiente de variacion:\", coeficienteVariacion*100, \"%\")"
   ]
  },
  {
   "cell_type": "markdown",
   "metadata": {},
   "source": [
    "### Ej 10"
   ]
  },
  {
   "cell_type": "code",
   "execution_count": 79,
   "metadata": {},
   "outputs": [
    {
     "name": "stdout",
     "output_type": "stream",
     "text": [
      "Media aritmetica sin ponderacion: 4.159999999999999\n",
      "Media aritmetica ponderada: 4.541666666666667\n"
     ]
    }
   ],
   "source": [
    "dataEj10 = [4.6, 3.2, 5.4, 2.6, 5,2]\n",
    "wght = [8, 3, 6, 2, 5]\n",
    "data_wght = [dataEj10[i]*wght[i] for i in range(5)]\n",
    "\n",
    "data = zip(dataEj10, wght, data_wght)\n",
    "dfEj10 = pd.DataFrame(data, columns=[\"Datos\", \"Peso\", \"DatosPonderados\"])\n",
    "sum_wght = dfEj10[\"Peso\"].sum()\n",
    "\n",
    "print(\"Media aritmetica sin ponderacion:\", dfEj10[\"Datos\"].mean())\n",
    "print(\"Media aritmetica ponderada:\", dfEj10[\"DatosPonderados\"].sum()/sum_wght)"
   ]
  },
  {
   "cell_type": "markdown",
   "metadata": {},
   "source": [
    "### Ej 11"
   ]
  },
  {
   "cell_type": "code",
   "execution_count": 127,
   "metadata": {},
   "outputs": [],
   "source": [
    "dataEj11 = [np.average([0, 4]), np.average([5, 9]), np.average([10, 14]), np.average([15, 19]), np.average([20, 24])]\n",
    "frec = [5, 8, 11, 9, 7]\n",
    "\n",
    "# En vez de una cadena vacía, puedes añadir un valor como promedio de los valores mencionados\n",
    "dataEj11.insert(3, np.average([21, 23, 24, 21]))\n",
    "\n",
    "data = zip(dataEj11, frec)\n",
    "dfEj11 = pd.DataFrame(data, columns=[\"ClasePromedio\",\"Frecuencia\"])\n",
    "\n",
    "#TODO TERMINAR!!!!"
   ]
  },
  {
   "cell_type": "markdown",
   "metadata": {},
   "source": [
    "### Ejercicio 14"
   ]
  },
  {
   "cell_type": "markdown",
   "metadata": {},
   "source": [
    " La tabla adjunta muestra la cantidad de tiempo (en horas) dedicada a estudiar para un examen por una muestra aleatoria de 25 estudiantes de una clase numerosa.\n",
    "\n",
    "a) Estime la media muestral del tiempo de estudio."
   ]
  },
  {
   "cell_type": "code",
   "execution_count": 122,
   "metadata": {},
   "outputs": [
    {
     "name": "stdout",
     "output_type": "stream",
     "text": [
      "La media muestral del tiempo de estudio es 9.36 horas por estudiante.\n"
     ]
    }
   ],
   "source": [
    "# Media muestral (x̄).\n",
    "\n",
    "horasDeEstudio = [(0, 4), (4, 8), (8, 12), (12, 16), (16, 20)]\n",
    "estudiantes = [3, 7, 8, 5, 2]\n",
    "\n",
    "data = []\n",
    "for intervalo, frecuencia in zip(horasDeEstudio, estudiantes):\n",
    "    data.extend([(intervalo[0] + intervalo[1]) / 2] * frecuencia)\n",
    "\n",
    "# Convierto la lista en una Series de Pandas y calculo la media muestral\n",
    "serie_datos = pd.Series(data)\n",
    "media_muestral = serie_datos.mean()\n",
    "\n",
    "print(f\"La media muestral del tiempo de estudio es {media_muestral:.2f} horas por estudiante.\")"
   ]
  },
  {
   "cell_type": "markdown",
   "metadata": {},
   "source": [
    "b)  Estime la desviación estándar muestral. "
   ]
  },
  {
   "cell_type": "code",
   "execution_count": 123,
   "metadata": {},
   "outputs": [
    {
     "name": "stdout",
     "output_type": "stream",
     "text": [
      "La desviación estándar muestral del tiempo de estudio es 4.572 horas.\n"
     ]
    }
   ],
   "source": [
    "desviacion_estandar = serie_datos.std(ddof=1)  # ddof=1 para muestral\n",
    "\n",
    "print(f\"La desviación estándar muestral del tiempo de estudio es {desviacion_estandar:.3f} horas.\")"
   ]
  },
  {
   "cell_type": "markdown",
   "metadata": {},
   "source": [
    "### Ejercicio 15"
   ]
  },
  {
   "cell_type": "markdown",
   "metadata": {},
   "source": [
    "A continuación, se presenta una muestra aleatoria de siete pares (x, y) de\n",
    "puntos de datos:\n",
    "(1, 5) (3, 7) (4, 6) (3, 6) (5, 7) (5, 8)\n",
    "\n",
    "a) Calcule la covarianza.\n",
    "\n",
    "b) Calcule el coeficiente de correlación."
   ]
  },
  {
   "cell_type": "code",
   "execution_count": 124,
   "metadata": {},
   "outputs": [
    {
     "name": "stdout",
     "output_type": "stream",
     "text": [
      "Covarianza muestral: 1.300\n",
      "Coeficiente de correlación: 0.817\n"
     ]
    }
   ],
   "source": [
    "datos = [(1, 5), (3, 7), (4, 6), (3, 6), (5, 7), (5, 8)]\n",
    "\n",
    "df = pd.DataFrame(datos, columns=['X', 'Y'])\n",
    "\n",
    "covarianza = df['X'].cov(df['Y'])\n",
    "print(f\"Covarianza muestral: {covarianza:.3f}\")\n",
    "\n",
    "correlacion = df['X'].corr(df['Y'])\n",
    "print(f\"Coeficiente de correlación: {correlacion:.3f}\")"
   ]
  },
  {
   "cell_type": "markdown",
   "metadata": {},
   "source": [
    "### Ejercicio 16"
   ]
  },
  {
   "cell_type": "markdown",
   "metadata": {},
   "source": [
    "Un hospital tiene interés en averiguar la eficacia de un nuevo medicamento para reducir el tiempo necesario para recuperarse totalmente de una operación de rodilla. La recuperación total se mide por medio de una serie de tests de fuerza que comparan la rodilla operada con la rodilla sin operar. El medicamento se administró en dosis diferentes a 18 pacientes durante un periodo de 6 meses. Los datos (x, y) siguientes indican el número de unidades de medicamento, X, y los días necesarios para la recuperación total Y de cada paciente:\n",
    "\n",
    "(5, 53) (4, 56) (9, 54) (14, 56) (21, 65) (7, 53) (7, 56) (9, 59) (14, 48) (11, 66)\n",
    "(21,57) (17, 49) (9, 53) (21, 52) (4, 56) (9, 46) (14, 66) (13, 49)\n",
    "\n",
    "a) Calcule la covarianza.\n",
    "\n",
    "b) Calcule el coeficiente de correlación."
   ]
  },
  {
   "cell_type": "code",
   "execution_count": 125,
   "metadata": {},
   "outputs": [
    {
     "name": "stdout",
     "output_type": "stream",
     "text": [
      "Covarianza muestral: 4.268\n",
      "Coeficiente de correlación: 0.128\n"
     ]
    }
   ],
   "source": [
    "datos = [(5, 53), (4, 56), (9, 54), (14, 56), (21, 65), (7, 53), (7, 56), (9, 59), (14, 48), (11, 66),\n",
    "         (21, 57), (17, 49), (9, 53), (21, 52), (4, 56), \n",
    "         (9, 46), (14, 66), (13, 49)]\n",
    "\n",
    "\n",
    "df = pd.DataFrame(datos, columns=['X', 'Y'])\n",
    "\n",
    "covarianza = df['X'].cov(df['Y'])\n",
    "print(f\"Covarianza muestral: {covarianza:.3f}\")\n",
    "\n",
    "correlacion = df['X'].corr(df['Y'])\n",
    "print(f\"Coeficiente de correlación: {correlacion:.3f}\")"
   ]
  },
  {
   "cell_type": "markdown",
   "metadata": {},
   "source": [
    "c) Analice brevemente la relación entre el número de unidades de\n",
    "medicamento y el tiempo de recuperación. ¿Qué dosis deberíamos\n",
    "recomendar basándonos en este análisis inicial?"
   ]
  },
  {
   "cell_type": "markdown",
   "metadata": {},
   "source": [
    "> El análisis de la covarianza y el coeficiente de correlación sugiere una relación muy débil entre el número de unidades de medicamento administradas y el tiempo de recuperación. La covarianza positiva de 4.031 indica una ligera tendencia a que, a medida que aumenta la dosis, aumente también el tiempo de recuperación, pero el coeficiente de correlación de 0.128 confirma que esta relación es casi nula. Esto sugiere que el número de unidades de medicamento tiene un impacto mínimo en la variación del tiempo de recuperación.\n",
    ">\n",
    ">Basados en estos resultados, no es posible establecer una relación clara entre la dosis del medicamento y el tiempo de recuperación. "
   ]
  },
  {
   "cell_type": "markdown",
   "metadata": {},
   "source": [
    "### Ejercicio 17"
   ]
  },
  {
   "cell_type": "markdown",
   "metadata": {},
   "source": [
    "Acme Delivery ofrece tres tarifas distintas de envío de paquetes de menos de 5 libras de Maine a la costa oeste: ordinario, 3 $; urgente, 5 $, y superurgente, 10$. Para comprobar la calidad de estos servicios, un importante minorista de venta por correo envió 15 paquetes de Maine a Tacoma (Washington) en momentos elegidos aleatoriamente. Los paquetes fueron enviados en grupos de tres por los tres servicios al mismo tiempo para reducir las diferencias resultantes del día del envío. Los datos siguientes muestran el coste de envío,\n",
    "X, y el número de días, Y, en pares (x, y):\n",
    "\n",
    "(3,7) (3, 6) (3, 5) (5,5) (10,2) (3,9) (5,6) (10,5) (5, 6) (10, 1) (3, 10) (5, 7) (10, 4)\n",
    "(5,6) (10, 4)\n",
    "\n",
    "a) Describa los datos numéricamente (covarianza y correlación)."
   ]
  },
  {
   "cell_type": "code",
   "execution_count": 126,
   "metadata": {},
   "outputs": [
    {
     "name": "stdout",
     "output_type": "stream",
     "text": [
      "Covarianza muestral: -5.500\n",
      "Coeficiente de correlación: -0.776\n"
     ]
    }
   ],
   "source": [
    "datos = [(3,7), (3, 6), (3, 5), (5,5), (10,2), (3,9), (5,6), (10,5), (5, 6), (10, 1), (3, 10), (5, 7), (10, 4),\n",
    "(5,6),(10, 4)]\n",
    "df = pd.DataFrame(datos, columns=['X', 'Y'])\n",
    "\n",
    "covarianza = df['X'].cov(df['Y'])\n",
    "print(f\"Covarianza muestral: {covarianza:.3f}\")\n",
    "\n",
    "correlacion = df['X'].corr(df['Y'])\n",
    "print(f\"Coeficiente de correlación: {correlacion:.3f}\")"
   ]
  },
  {
   "cell_type": "markdown",
   "metadata": {},
   "source": [
    "> En este caso la covarianza nos dio negativa, lo que nos indicaría una relación inversa entre las variables X e Y, siendo que a medida que aumenta el costo del envío (X), el número de días para la entrega (Y) tiende a disminuir, lo cual es coherente. Este dato nos da una idea del comportamiento de las variables pero no el grado de variación (la proporción).\n",
    ">\n",
    "> Con el dato de el coeficiente de correlación de -0.776, podemos confirmar que existe una correlación negativa fuerte, dado que es muy cercana a -1. Esto significa que a medida que el costo del envío aumenta (de $3 a $10), el número de días para la entrega tiende a disminuir de manera significativa.\n"
   ]
  },
  {
   "cell_type": "markdown",
   "metadata": {},
   "source": [
    "b) Analice el valor de los servicios de precio más alto desde el punto de vista\n",
    "del envío más rápido."
   ]
  },
  {
   "cell_type": "markdown",
   "metadata": {},
   "source": [
    ">Elegir un servicio de envío premium no debe hacerse de manera apresurada. Los servicios más costosos pueden ofrecer ventajas como manejo prioritario, transporte más rápido y un seguimiento, lo que puede ser beneficioso para envíos urgentes o de alto valor, pero no siempre es indispensable pagar más para obtener una entrega rápida. Es importante considerar la urgencia del envío, su valor y las alternativas disponibles. Comparar distintas opciones permite tomar una decisión bien justificada, analizando si el costo adicional realmente justifica el beneficio de una entrega más rápida."
   ]
  },
  {
   "cell_type": "markdown",
   "metadata": {},
   "source": [
    "### Ejercicio 19"
   ]
  },
  {
   "cell_type": "markdown",
   "metadata": {},
   "source": [
    "El número de computadores vendidos al día en una tienda viene definido por\n",
    "la siguiente distribución de probabilidad:\n",
    "\\begin{array}{|c|c|c|c|c|c|c|c|}\n",
    "\\hline\n",
    "X    & 0    & 1    & 2    & 3    & 4    & 5    & 6    \\\\ \\hline\n",
    "P(x) & 0.05 & 0.10 & 0.20 & 0.20 & 0.20 & 0.15 & 0.10 \\\\ \\hline\n",
    "\\end{array}"
   ]
  },
  {
   "cell_type": "markdown",
   "metadata": {},
   "source": [
    "a) ¿P(3 ≤ x ≤ 6)?:\n",
    "\n",
    "P(3 ≤ x ≤ 6) = P(x = 3) + P(x = 4) + P(x = 5) + P(x = 6) = 0.20 + 0.20 + 0.15 + 0.10 = 0.65\n",
    "\n",
    "b) ¿P(x > 3)?:\n",
    "\n",
    "P(x > 3) = P(x = 4) + P(x = 5) + P(x = 6) = 0.20 + 0.15 + 0.10 = 0.45\n",
    "\n",
    "c) ¿P(x ≤ 4)?:\n",
    "\n",
    "P(x ≤ 4) = P(x = 0) + P(x = 1) + P(x = 2) + P(x = 3) + P(x = 4) = 0.05 + 0.10 + 0.20 + 0.20 + 0.20 = 0.75\n",
    "\n",
    "d) ¿P(2 < x ≤ 5)?:\n",
    "\n",
    "P(2 < x ≤ 5) = P(x = 3) + P(x = 4) + P(x = 5) = 0.20 + 0.20 + 0.15 = 0.55 \n"
   ]
  }
 ],
 "metadata": {
  "kernelspec": {
   "display_name": "Python 3",
   "language": "python",
   "name": "python3"
  },
  "language_info": {
   "codemirror_mode": {
    "name": "ipython",
    "version": 3
   },
   "file_extension": ".py",
   "mimetype": "text/x-python",
   "name": "python",
   "nbconvert_exporter": "python",
   "pygments_lexer": "ipython3",
   "version": "3.12.5"
  }
 },
 "nbformat": 4,
 "nbformat_minor": 2
}
